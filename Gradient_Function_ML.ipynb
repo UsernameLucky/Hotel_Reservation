{
  "cells": [
    {
      "cell_type": "markdown",
      "metadata": {
        "id": "view-in-github",
        "colab_type": "text"
      },
      "source": [
        "<a href=\"https://colab.research.google.com/github/UsernameLucky/Machine_Learning-projects/blob/main/Gradient_Function_ML.ipynb\" target=\"_parent\"><img src=\"https://colab.research.google.com/assets/colab-badge.svg\" alt=\"Open In Colab\"/></a>"
      ]
    },
    {
      "cell_type": "code",
      "execution_count": null,
      "id": "functioning-tablet",
      "metadata": {
        "id": "functioning-tablet"
      },
      "outputs": [],
      "source": []
    },
    {
      "cell_type": "code",
      "execution_count": null,
      "id": "familiar-industry",
      "metadata": {
        "id": "familiar-industry"
      },
      "outputs": [],
      "source": [
        "import sys, os\n",
        "import numpy as np\n",
        "import pandas as pd"
      ]
    },
    {
      "cell_type": "markdown",
      "id": "entertaining-application",
      "metadata": {
        "id": "entertaining-application"
      },
      "source": [
        "# Question 1 : Get the data"
      ]
    },
    {
      "cell_type": "code",
      "execution_count": null,
      "id": "encouraging-asian",
      "metadata": {
        "id": "encouraging-asian",
        "outputId": "d4bac56b-2c22-413d-8537-b0d143364c5d"
      },
      "outputs": [
        {
          "data": {
            "text/html": [
              "<div>\n",
              "<style scoped>\n",
              "    .dataframe tbody tr th:only-of-type {\n",
              "        vertical-align: middle;\n",
              "    }\n",
              "\n",
              "    .dataframe tbody tr th {\n",
              "        vertical-align: top;\n",
              "    }\n",
              "\n",
              "    .dataframe thead th {\n",
              "        text-align: right;\n",
              "    }\n",
              "</style>\n",
              "<table border=\"1\" class=\"dataframe\">\n",
              "  <thead>\n",
              "    <tr style=\"text-align: right;\">\n",
              "      <th></th>\n",
              "      <th>shower_depth</th>\n",
              "      <th>shower_width</th>\n",
              "      <th>type</th>\n",
              "    </tr>\n",
              "  </thead>\n",
              "  <tbody>\n",
              "    <tr>\n",
              "      <th>0</th>\n",
              "      <td>102.726547</td>\n",
              "      <td>41.060509</td>\n",
              "      <td>hadron</td>\n",
              "    </tr>\n",
              "    <tr>\n",
              "      <th>1</th>\n",
              "      <td>55.953644</td>\n",
              "      <td>19.107106</td>\n",
              "      <td>electron</td>\n",
              "    </tr>\n",
              "    <tr>\n",
              "      <th>2</th>\n",
              "      <td>76.237938</td>\n",
              "      <td>21.859595</td>\n",
              "      <td>electron</td>\n",
              "    </tr>\n",
              "    <tr>\n",
              "      <th>3</th>\n",
              "      <td>145.829765</td>\n",
              "      <td>18.478401</td>\n",
              "      <td>hadron</td>\n",
              "    </tr>\n",
              "    <tr>\n",
              "      <th>4</th>\n",
              "      <td>151.974596</td>\n",
              "      <td>33.539821</td>\n",
              "      <td>hadron</td>\n",
              "    </tr>\n",
              "  </tbody>\n",
              "</table>\n",
              "</div>"
            ],
            "text/plain": [
              "   shower_depth  shower_width      type\n",
              "0    102.726547     41.060509    hadron\n",
              "1     55.953644     19.107106  electron\n",
              "2     76.237938     21.859595  electron\n",
              "3    145.829765     18.478401    hadron\n",
              "4    151.974596     33.539821    hadron"
            ]
          },
          "execution_count": 3,
          "metadata": {},
          "output_type": "execute_result"
        }
      ],
      "source": [
        "#Load the dataset\n",
        "df = pd.read_csv(\"calo_shower_data.csv\")\n",
        "df.head()"
      ]
    },
    {
      "cell_type": "code",
      "execution_count": null,
      "id": "endangered-substance",
      "metadata": {
        "id": "endangered-substance",
        "outputId": "94b2110d-851f-4185-e38f-243883c63cf6"
      },
      "outputs": [
        {
          "data": {
            "text/plain": [
              "Index(['shower_depth', 'shower_width', 'type'], dtype='object')"
            ]
          },
          "execution_count": 4,
          "metadata": {},
          "output_type": "execute_result"
        }
      ],
      "source": [
        "#The columns\n",
        "df.columns"
      ]
    },
    {
      "cell_type": "markdown",
      "id": "funny-opening",
      "metadata": {
        "id": "funny-opening"
      },
      "source": [
        "The dataset has three columns: shower depth, shower width and type.\n",
        "The type column stores the labels/targets (electron/hadron)."
      ]
    },
    {
      "cell_type": "code",
      "execution_count": null,
      "id": "armed-steel",
      "metadata": {
        "id": "armed-steel",
        "outputId": "b1c536b2-5e30-4b3e-8152-91f82ca101ef"
      },
      "outputs": [
        {
          "data": {
            "text/plain": [
              "shower_depth    100000\n",
              "shower_width    100000\n",
              "type            100000\n",
              "dtype: int64"
            ]
          },
          "execution_count": 5,
          "metadata": {},
          "output_type": "execute_result"
        }
      ],
      "source": [
        "#The number of samples\n",
        "no_of_samples = df.count()\n",
        "no_of_samples"
      ]
    },
    {
      "cell_type": "markdown",
      "id": "atomic-diana",
      "metadata": {
        "id": "atomic-diana"
      },
      "source": [
        "There are 100,000 samples."
      ]
    },
    {
      "cell_type": "markdown",
      "id": "seven-darkness",
      "metadata": {
        "id": "seven-darkness"
      },
      "source": [
        "# Question 2 : Feature Scaling"
      ]
    },
    {
      "cell_type": "markdown",
      "id": "metallic-greensboro",
      "metadata": {
        "id": "metallic-greensboro"
      },
      "source": [
        "2.1  Gradient Descent"
      ]
    },
    {
      "cell_type": "markdown",
      "id": "advanced-strand",
      "metadata": {
        "id": "advanced-strand"
      },
      "source": [
        "The hypothesis function in logistic regression is:\n",
        "$$ h_\\theta(x) = \\frac{1}{1 + e^{-(\\theta_0 + \\theta_1x_1 + \\theta_2x_2 + \\ldots + \\theta_px_p)}} $$\n",
        "\n",
        "where:\n",
        "- $ \\theta_0, \\theta_1, \\ldots, \\theta_p $ are the parameters to be learned.\n",
        "- $ x_1, x_2, \\ldots, x_p $ are the input features.\n",
        "\n",
        "The sigmoid function $ \\sigma(z) $ is given by\n",
        "$$ \\sigma(z) = \\frac{1}{1 + e^{-z}} $$\n",
        "\n",
        "where \\( z \\) is a linear combination of input features and their corresponding parameters:\n",
        "\n",
        "$$ z = \\theta_0 + \\theta_1 x_1 + \\theta_2 x_2 + \\ldots + \\theta_n x_n $$\n",
        "\n",
        "\n",
        " The cost function $ J(\\theta) $ is\n",
        "$$ J(\\theta) = -\\frac{1}{m} \\sum_{i=1}^{m} \\left[ y^{(i)}\\log(h_\\theta(x^{(i)})) + (1 - y^{(i)})\\log(1 - h_\\theta(x^{(i)})) \\right] $$\n",
        "\n",
        "where:\n",
        "- $ m $ is the number of training examples.\n",
        "- $ y^{(i)} $ is the true label for the \\(i\\)-th example.\n",
        "- $ h_\\theta(x^{(i)}) $ is the predicted probability for the \\(i\\)-th example.\n",
        "\n",
        "**Divergence might have the following issues:**\n",
        "\n",
        "Features on varying scales can lead to imbalanced parameters and this imbalance may result in some features dominating learning, while others are neglected.\\\n",
        "Different feature scales influence the cost function shape. Large scale features may hinder efficient gradient descent convergence.\\\n",
        "Sigmoid function saturates for large positive or negative z.Saturated regions have very small derivatives, causing slow convergence during gradient descent."
      ]
    },
    {
      "cell_type": "markdown",
      "id": "substantial-collins",
      "metadata": {
        "id": "substantial-collins"
      },
      "source": [
        "2.2 Standardization"
      ]
    },
    {
      "cell_type": "code",
      "execution_count": null,
      "id": "detected-active",
      "metadata": {
        "id": "detected-active",
        "outputId": "6ae7ad2e-1ee9-40e3-8451-8c9907c4be28"
      },
      "outputs": [
        {
          "data": {
            "text/html": [
              "<div>\n",
              "<style scoped>\n",
              "    .dataframe tbody tr th:only-of-type {\n",
              "        vertical-align: middle;\n",
              "    }\n",
              "\n",
              "    .dataframe tbody tr th {\n",
              "        vertical-align: top;\n",
              "    }\n",
              "\n",
              "    .dataframe thead th {\n",
              "        text-align: right;\n",
              "    }\n",
              "</style>\n",
              "<table border=\"1\" class=\"dataframe\">\n",
              "  <thead>\n",
              "    <tr style=\"text-align: right;\">\n",
              "      <th></th>\n",
              "      <th>shower_depth</th>\n",
              "      <th>shower_width</th>\n",
              "    </tr>\n",
              "  </thead>\n",
              "  <tbody>\n",
              "    <tr>\n",
              "      <th>count</th>\n",
              "      <td>100000.000000</td>\n",
              "      <td>100000.000000</td>\n",
              "    </tr>\n",
              "    <tr>\n",
              "      <th>mean</th>\n",
              "      <td>99.847703</td>\n",
              "      <td>25.060322</td>\n",
              "    </tr>\n",
              "    <tr>\n",
              "      <th>std</th>\n",
              "      <td>31.360512</td>\n",
              "      <td>9.073636</td>\n",
              "    </tr>\n",
              "    <tr>\n",
              "      <th>min</th>\n",
              "      <td>0.013479</td>\n",
              "      <td>0.139829</td>\n",
              "    </tr>\n",
              "    <tr>\n",
              "      <th>25%</th>\n",
              "      <td>80.005289</td>\n",
              "      <td>18.726105</td>\n",
              "    </tr>\n",
              "    <tr>\n",
              "      <th>50%</th>\n",
              "      <td>97.648121</td>\n",
              "      <td>22.890813</td>\n",
              "    </tr>\n",
              "    <tr>\n",
              "      <th>75%</th>\n",
              "      <td>121.048161</td>\n",
              "      <td>30.209608</td>\n",
              "    </tr>\n",
              "    <tr>\n",
              "      <th>max</th>\n",
              "      <td>222.651768</td>\n",
              "      <td>73.082693</td>\n",
              "    </tr>\n",
              "  </tbody>\n",
              "</table>\n",
              "</div>"
            ],
            "text/plain": [
              "        shower_depth   shower_width\n",
              "count  100000.000000  100000.000000\n",
              "mean       99.847703      25.060322\n",
              "std        31.360512       9.073636\n",
              "min         0.013479       0.139829\n",
              "25%        80.005289      18.726105\n",
              "50%        97.648121      22.890813\n",
              "75%       121.048161      30.209608\n",
              "max       222.651768      73.082693"
            ]
          },
          "execution_count": 6,
          "metadata": {},
          "output_type": "execute_result"
        }
      ],
      "source": [
        "df.describe()"
      ]
    },
    {
      "cell_type": "markdown",
      "id": "worldwide-swimming",
      "metadata": {
        "id": "worldwide-swimming"
      },
      "source": [
        "Statistical summary of the dataframe."
      ]
    },
    {
      "cell_type": "code",
      "execution_count": null,
      "id": "suited-opera",
      "metadata": {
        "id": "suited-opera"
      },
      "outputs": [],
      "source": [
        "# Standardizing\n",
        "MEAN_X1  =df['shower_depth'].mean()\n",
        "SIGMA_X1 = df['shower_depth'].std()\n",
        "MEAN_X2  =df['shower_width'].mean()\n",
        "SIGMA_X2 = df['shower_width'].std()\n",
        "\n",
        "df['shower_depth_scaled'] = (df['shower_depth'] - MEAN_X1)/SIGMA_X1\n",
        "df['shower_width_scaled'] = (df['shower_width'] - MEAN_X2)/SIGMA_X2"
      ]
    },
    {
      "cell_type": "code",
      "execution_count": null,
      "id": "utility-scientist",
      "metadata": {
        "id": "utility-scientist",
        "outputId": "b1b8b4d1-35b0-4b5e-9de0-dade25f37693"
      },
      "outputs": [
        {
          "data": {
            "text/html": [
              "<div>\n",
              "<style scoped>\n",
              "    .dataframe tbody tr th:only-of-type {\n",
              "        vertical-align: middle;\n",
              "    }\n",
              "\n",
              "    .dataframe tbody tr th {\n",
              "        vertical-align: top;\n",
              "    }\n",
              "\n",
              "    .dataframe thead th {\n",
              "        text-align: right;\n",
              "    }\n",
              "</style>\n",
              "<table border=\"1\" class=\"dataframe\">\n",
              "  <thead>\n",
              "    <tr style=\"text-align: right;\">\n",
              "      <th></th>\n",
              "      <th>shower_depth</th>\n",
              "      <th>shower_width</th>\n",
              "      <th>shower_depth_scaled</th>\n",
              "      <th>shower_width_scaled</th>\n",
              "    </tr>\n",
              "  </thead>\n",
              "  <tbody>\n",
              "    <tr>\n",
              "      <th>count</th>\n",
              "      <td>100000.000000</td>\n",
              "      <td>100000.000000</td>\n",
              "      <td>1.000000e+05</td>\n",
              "      <td>1.000000e+05</td>\n",
              "    </tr>\n",
              "    <tr>\n",
              "      <th>mean</th>\n",
              "      <td>99.847703</td>\n",
              "      <td>25.060322</td>\n",
              "      <td>-2.048417e-14</td>\n",
              "      <td>3.273701e-14</td>\n",
              "    </tr>\n",
              "    <tr>\n",
              "      <th>std</th>\n",
              "      <td>31.360512</td>\n",
              "      <td>9.073636</td>\n",
              "      <td>1.000000e+00</td>\n",
              "      <td>1.000000e+00</td>\n",
              "    </tr>\n",
              "    <tr>\n",
              "      <th>min</th>\n",
              "      <td>0.013479</td>\n",
              "      <td>0.139829</td>\n",
              "      <td>-3.183437e+00</td>\n",
              "      <td>-2.746473e+00</td>\n",
              "    </tr>\n",
              "    <tr>\n",
              "      <th>25%</th>\n",
              "      <td>80.005289</td>\n",
              "      <td>18.726105</td>\n",
              "      <td>-6.327197e-01</td>\n",
              "      <td>-6.980902e-01</td>\n",
              "    </tr>\n",
              "    <tr>\n",
              "      <th>50%</th>\n",
              "      <td>97.648121</td>\n",
              "      <td>22.890813</td>\n",
              "      <td>-7.013857e-02</td>\n",
              "      <td>-2.391003e-01</td>\n",
              "    </tr>\n",
              "    <tr>\n",
              "      <th>75%</th>\n",
              "      <td>121.048161</td>\n",
              "      <td>30.209608</td>\n",
              "      <td>6.760240e-01</td>\n",
              "      <td>5.674998e-01</td>\n",
              "    </tr>\n",
              "    <tr>\n",
              "      <th>max</th>\n",
              "      <td>222.651768</td>\n",
              "      <td>73.082693</td>\n",
              "      <td>3.915882e+00</td>\n",
              "      <td>5.292517e+00</td>\n",
              "    </tr>\n",
              "  </tbody>\n",
              "</table>\n",
              "</div>"
            ],
            "text/plain": [
              "        shower_depth   shower_width  shower_depth_scaled  shower_width_scaled\n",
              "count  100000.000000  100000.000000         1.000000e+05         1.000000e+05\n",
              "mean       99.847703      25.060322        -2.048417e-14         3.273701e-14\n",
              "std        31.360512       9.073636         1.000000e+00         1.000000e+00\n",
              "min         0.013479       0.139829        -3.183437e+00        -2.746473e+00\n",
              "25%        80.005289      18.726105        -6.327197e-01        -6.980902e-01\n",
              "50%        97.648121      22.890813        -7.013857e-02        -2.391003e-01\n",
              "75%       121.048161      30.209608         6.760240e-01         5.674998e-01\n",
              "max       222.651768      73.082693         3.915882e+00         5.292517e+00"
            ]
          },
          "execution_count": 8,
          "metadata": {},
          "output_type": "execute_result"
        }
      ],
      "source": [
        "df.describe()"
      ]
    },
    {
      "cell_type": "markdown",
      "id": "separate-geneva",
      "metadata": {
        "id": "separate-geneva"
      },
      "source": [
        "The new dataframe shows features with a mean very close to zero and the standard deviation as one. This is called Z-score normalization.\\\n",
        "The mean indicates that the distribution of the data is centered around zero.\\\n",
        "The standard deviation implies that the variability of the data is consistent."
      ]
    },
    {
      "cell_type": "markdown",
      "id": "acute-hundred",
      "metadata": {
        "id": "acute-hundred"
      },
      "source": [
        "# Question 3: Data Prep"
      ]
    },
    {
      "cell_type": "markdown",
      "id": "binary-talent",
      "metadata": {
        "id": "binary-talent"
      },
      "source": [
        "3.1 Adding a new column"
      ]
    },
    {
      "cell_type": "code",
      "execution_count": null,
      "id": "automated-opening",
      "metadata": {
        "id": "automated-opening",
        "outputId": "f4e64ac6-7341-4b94-d04a-c73551b5b2be"
      },
      "outputs": [
        {
          "data": {
            "text/html": [
              "<div>\n",
              "<style scoped>\n",
              "    .dataframe tbody tr th:only-of-type {\n",
              "        vertical-align: middle;\n",
              "    }\n",
              "\n",
              "    .dataframe tbody tr th {\n",
              "        vertical-align: top;\n",
              "    }\n",
              "\n",
              "    .dataframe thead th {\n",
              "        text-align: right;\n",
              "    }\n",
              "</style>\n",
              "<table border=\"1\" class=\"dataframe\">\n",
              "  <thead>\n",
              "    <tr style=\"text-align: right;\">\n",
              "      <th></th>\n",
              "      <th>shower_depth</th>\n",
              "      <th>shower_width</th>\n",
              "      <th>type</th>\n",
              "      <th>shower_depth_scaled</th>\n",
              "      <th>shower_width_scaled</th>\n",
              "      <th>x0</th>\n",
              "    </tr>\n",
              "  </thead>\n",
              "  <tbody>\n",
              "    <tr>\n",
              "      <th>0</th>\n",
              "      <td>102.726547</td>\n",
              "      <td>41.060509</td>\n",
              "      <td>hadron</td>\n",
              "      <td>0.091798</td>\n",
              "      <td>1.763371</td>\n",
              "      <td>1</td>\n",
              "    </tr>\n",
              "    <tr>\n",
              "      <th>1</th>\n",
              "      <td>55.953644</td>\n",
              "      <td>19.107106</td>\n",
              "      <td>electron</td>\n",
              "      <td>-1.399660</td>\n",
              "      <td>-0.656100</td>\n",
              "      <td>1</td>\n",
              "    </tr>\n",
              "    <tr>\n",
              "      <th>2</th>\n",
              "      <td>76.237938</td>\n",
              "      <td>21.859595</td>\n",
              "      <td>electron</td>\n",
              "      <td>-0.752850</td>\n",
              "      <td>-0.352750</td>\n",
              "      <td>1</td>\n",
              "    </tr>\n",
              "    <tr>\n",
              "      <th>3</th>\n",
              "      <td>145.829765</td>\n",
              "      <td>18.478401</td>\n",
              "      <td>hadron</td>\n",
              "      <td>1.466241</td>\n",
              "      <td>-0.725390</td>\n",
              "      <td>1</td>\n",
              "    </tr>\n",
              "    <tr>\n",
              "      <th>4</th>\n",
              "      <td>151.974596</td>\n",
              "      <td>33.539821</td>\n",
              "      <td>hadron</td>\n",
              "      <td>1.662182</td>\n",
              "      <td>0.934520</td>\n",
              "      <td>1</td>\n",
              "    </tr>\n",
              "  </tbody>\n",
              "</table>\n",
              "</div>"
            ],
            "text/plain": [
              "   shower_depth  shower_width      type  shower_depth_scaled  \\\n",
              "0    102.726547     41.060509    hadron             0.091798   \n",
              "1     55.953644     19.107106  electron            -1.399660   \n",
              "2     76.237938     21.859595  electron            -0.752850   \n",
              "3    145.829765     18.478401    hadron             1.466241   \n",
              "4    151.974596     33.539821    hadron             1.662182   \n",
              "\n",
              "   shower_width_scaled  x0  \n",
              "0             1.763371   1  \n",
              "1            -0.656100   1  \n",
              "2            -0.352750   1  \n",
              "3            -0.725390   1  \n",
              "4             0.934520   1  "
            ]
          },
          "execution_count": 9,
          "metadata": {},
          "output_type": "execute_result"
        }
      ],
      "source": [
        "df['x0'] = 1\n",
        "df.head()"
      ]
    },
    {
      "cell_type": "markdown",
      "id": "buried-bottom",
      "metadata": {
        "id": "buried-bottom"
      },
      "source": [
        "3.2 Matrix X"
      ]
    },
    {
      "cell_type": "code",
      "execution_count": null,
      "id": "senior-pendant",
      "metadata": {
        "id": "senior-pendant",
        "outputId": "087ea918-59ac-4074-bc92-e8a1e52ab531"
      },
      "outputs": [
        {
          "data": {
            "text/html": [
              "<div>\n",
              "<style scoped>\n",
              "    .dataframe tbody tr th:only-of-type {\n",
              "        vertical-align: middle;\n",
              "    }\n",
              "\n",
              "    .dataframe tbody tr th {\n",
              "        vertical-align: top;\n",
              "    }\n",
              "\n",
              "    .dataframe thead th {\n",
              "        text-align: right;\n",
              "    }\n",
              "</style>\n",
              "<table border=\"1\" class=\"dataframe\">\n",
              "  <thead>\n",
              "    <tr style=\"text-align: right;\">\n",
              "      <th></th>\n",
              "      <th>x0</th>\n",
              "      <th>shower_depth_scaled</th>\n",
              "      <th>shower_width_scaled</th>\n",
              "    </tr>\n",
              "  </thead>\n",
              "  <tbody>\n",
              "    <tr>\n",
              "      <th>0</th>\n",
              "      <td>1</td>\n",
              "      <td>0.091798</td>\n",
              "      <td>1.763371</td>\n",
              "    </tr>\n",
              "    <tr>\n",
              "      <th>1</th>\n",
              "      <td>1</td>\n",
              "      <td>-1.399660</td>\n",
              "      <td>-0.656100</td>\n",
              "    </tr>\n",
              "    <tr>\n",
              "      <th>2</th>\n",
              "      <td>1</td>\n",
              "      <td>-0.752850</td>\n",
              "      <td>-0.352750</td>\n",
              "    </tr>\n",
              "    <tr>\n",
              "      <th>3</th>\n",
              "      <td>1</td>\n",
              "      <td>1.466241</td>\n",
              "      <td>-0.725390</td>\n",
              "    </tr>\n",
              "    <tr>\n",
              "      <th>4</th>\n",
              "      <td>1</td>\n",
              "      <td>1.662182</td>\n",
              "      <td>0.934520</td>\n",
              "    </tr>\n",
              "  </tbody>\n",
              "</table>\n",
              "</div>"
            ],
            "text/plain": [
              "   x0  shower_depth_scaled  shower_width_scaled\n",
              "0   1             0.091798             1.763371\n",
              "1   1            -1.399660            -0.656100\n",
              "2   1            -0.752850            -0.352750\n",
              "3   1             1.466241            -0.725390\n",
              "4   1             1.662182             0.934520"
            ]
          },
          "execution_count": 10,
          "metadata": {},
          "output_type": "execute_result"
        }
      ],
      "source": [
        "X = df[['x0', 'shower_depth_scaled', 'shower_width_scaled']]\n",
        "X.head()"
      ]
    },
    {
      "cell_type": "markdown",
      "id": "identical-expansion",
      "metadata": {
        "id": "identical-expansion"
      },
      "source": [
        "3.3 Dataframe y"
      ]
    },
    {
      "cell_type": "code",
      "execution_count": null,
      "id": "modified-thought",
      "metadata": {
        "id": "modified-thought",
        "outputId": "94a19716-d57f-4caf-c61e-6379b07d3e0a"
      },
      "outputs": [
        {
          "data": {
            "text/html": [
              "<div>\n",
              "<style scoped>\n",
              "    .dataframe tbody tr th:only-of-type {\n",
              "        vertical-align: middle;\n",
              "    }\n",
              "\n",
              "    .dataframe tbody tr th {\n",
              "        vertical-align: top;\n",
              "    }\n",
              "\n",
              "    .dataframe thead th {\n",
              "        text-align: right;\n",
              "    }\n",
              "</style>\n",
              "<table border=\"1\" class=\"dataframe\">\n",
              "  <thead>\n",
              "    <tr style=\"text-align: right;\">\n",
              "      <th></th>\n",
              "      <th>shower_depth</th>\n",
              "      <th>shower_width</th>\n",
              "      <th>type</th>\n",
              "      <th>shower_depth_scaled</th>\n",
              "      <th>shower_width_scaled</th>\n",
              "      <th>x0</th>\n",
              "      <th>y</th>\n",
              "    </tr>\n",
              "  </thead>\n",
              "  <tbody>\n",
              "    <tr>\n",
              "      <th>0</th>\n",
              "      <td>102.726547</td>\n",
              "      <td>41.060509</td>\n",
              "      <td>hadron</td>\n",
              "      <td>0.091798</td>\n",
              "      <td>1.763371</td>\n",
              "      <td>1</td>\n",
              "      <td>0</td>\n",
              "    </tr>\n",
              "    <tr>\n",
              "      <th>1</th>\n",
              "      <td>55.953644</td>\n",
              "      <td>19.107106</td>\n",
              "      <td>electron</td>\n",
              "      <td>-1.399660</td>\n",
              "      <td>-0.656100</td>\n",
              "      <td>1</td>\n",
              "      <td>1</td>\n",
              "    </tr>\n",
              "    <tr>\n",
              "      <th>2</th>\n",
              "      <td>76.237938</td>\n",
              "      <td>21.859595</td>\n",
              "      <td>electron</td>\n",
              "      <td>-0.752850</td>\n",
              "      <td>-0.352750</td>\n",
              "      <td>1</td>\n",
              "      <td>1</td>\n",
              "    </tr>\n",
              "    <tr>\n",
              "      <th>3</th>\n",
              "      <td>145.829765</td>\n",
              "      <td>18.478401</td>\n",
              "      <td>hadron</td>\n",
              "      <td>1.466241</td>\n",
              "      <td>-0.725390</td>\n",
              "      <td>1</td>\n",
              "      <td>0</td>\n",
              "    </tr>\n",
              "    <tr>\n",
              "      <th>4</th>\n",
              "      <td>151.974596</td>\n",
              "      <td>33.539821</td>\n",
              "      <td>hadron</td>\n",
              "      <td>1.662182</td>\n",
              "      <td>0.934520</td>\n",
              "      <td>1</td>\n",
              "      <td>0</td>\n",
              "    </tr>\n",
              "  </tbody>\n",
              "</table>\n",
              "</div>"
            ],
            "text/plain": [
              "   shower_depth  shower_width      type  shower_depth_scaled  \\\n",
              "0    102.726547     41.060509    hadron             0.091798   \n",
              "1     55.953644     19.107106  electron            -1.399660   \n",
              "2     76.237938     21.859595  electron            -0.752850   \n",
              "3    145.829765     18.478401    hadron             1.466241   \n",
              "4    151.974596     33.539821    hadron             1.662182   \n",
              "\n",
              "   shower_width_scaled  x0  y  \n",
              "0             1.763371   1  0  \n",
              "1            -0.656100   1  1  \n",
              "2            -0.352750   1  1  \n",
              "3            -0.725390   1  0  \n",
              "4             0.934520   1  0  "
            ]
          },
          "execution_count": 11,
          "metadata": {},
          "output_type": "execute_result"
        }
      ],
      "source": [
        "# A new column 'y' filled with 0\n",
        "df['y'] = 0\n",
        "# Specify labels\n",
        "df.loc[df['type'] == 'electron', 'y'] = 1\n",
        "df.head()"
      ]
    },
    {
      "cell_type": "markdown",
      "id": "weekly-powder",
      "metadata": {
        "id": "weekly-powder"
      },
      "source": [
        "3.4 Vector y"
      ]
    },
    {
      "cell_type": "code",
      "execution_count": null,
      "id": "welsh-spread",
      "metadata": {
        "id": "welsh-spread",
        "outputId": "c9e319ec-9a7d-48ea-9edd-8392fa55214c"
      },
      "outputs": [
        {
          "data": {
            "text/html": [
              "<div>\n",
              "<style scoped>\n",
              "    .dataframe tbody tr th:only-of-type {\n",
              "        vertical-align: middle;\n",
              "    }\n",
              "\n",
              "    .dataframe tbody tr th {\n",
              "        vertical-align: top;\n",
              "    }\n",
              "\n",
              "    .dataframe thead th {\n",
              "        text-align: right;\n",
              "    }\n",
              "</style>\n",
              "<table border=\"1\" class=\"dataframe\">\n",
              "  <thead>\n",
              "    <tr style=\"text-align: right;\">\n",
              "      <th></th>\n",
              "      <th>y</th>\n",
              "    </tr>\n",
              "  </thead>\n",
              "  <tbody>\n",
              "    <tr>\n",
              "      <th>0</th>\n",
              "      <td>0</td>\n",
              "    </tr>\n",
              "    <tr>\n",
              "      <th>1</th>\n",
              "      <td>1</td>\n",
              "    </tr>\n",
              "    <tr>\n",
              "      <th>2</th>\n",
              "      <td>1</td>\n",
              "    </tr>\n",
              "    <tr>\n",
              "      <th>3</th>\n",
              "      <td>0</td>\n",
              "    </tr>\n",
              "    <tr>\n",
              "      <th>4</th>\n",
              "      <td>0</td>\n",
              "    </tr>\n",
              "  </tbody>\n",
              "</table>\n",
              "</div>"
            ],
            "text/plain": [
              "   y\n",
              "0  0\n",
              "1  1\n",
              "2  1\n",
              "3  0\n",
              "4  0"
            ]
          },
          "execution_count": 12,
          "metadata": {},
          "output_type": "execute_result"
        }
      ],
      "source": [
        "y = df[['y']]\n",
        "y.head()"
      ]
    },
    {
      "cell_type": "markdown",
      "id": "infrared-redhead",
      "metadata": {
        "id": "infrared-redhead"
      },
      "source": [
        "# Question 4 : DataFrames to Numpy"
      ]
    },
    {
      "cell_type": "code",
      "execution_count": null,
      "id": "legitimate-ready",
      "metadata": {
        "id": "legitimate-ready"
      },
      "outputs": [],
      "source": [
        "from sklearn.model_selection import train_test_split\n",
        "\n",
        "X_train_df, X_test_df, y_train_df, y_test_df = train_test_split( X, y, test_size=0.2, random_state=42)\n",
        "\n",
        "X_train = X_train_df.to_numpy() ; y_train = y_train_df.to_numpy()\n",
        "X_test  = X_test_df.to_numpy()  ; y_test  = y_test_df.to_numpy()"
      ]
    },
    {
      "cell_type": "markdown",
      "id": "fourth-circus",
      "metadata": {
        "id": "fourth-circus"
      },
      "source": [
        "4.1 Shapes"
      ]
    },
    {
      "cell_type": "code",
      "execution_count": null,
      "id": "color-paraguay",
      "metadata": {
        "id": "color-paraguay",
        "outputId": "5337cdf4-6dce-4de8-f83f-e117f874abe8"
      },
      "outputs": [
        {
          "name": "stdout",
          "output_type": "stream",
          "text": [
            "X_train shape: (80000, 3), X_test shape: (20000, 3)\n",
            "y_train shape: (80000, 1), y_test shape: (20000, 1)\n"
          ]
        }
      ],
      "source": [
        "print(f\"X_train shape: {X_train.shape}, X_test shape: {X_test.shape}\")\n",
        "print(f\"y_train shape: {y_train.shape}, y_test shape: {y_test.shape}\")\n"
      ]
    },
    {
      "cell_type": "markdown",
      "id": "straight-tract",
      "metadata": {
        "id": "straight-tract"
      },
      "source": [
        "From the results we can see that the dataset has been split into the training set (80%) and testing set (20%).\\\n",
        "The training set for x has 80,000 samples and 3 features while its testing set has 20,000 samples and 3 features.\\\n",
        "The training set for y has 80,000 samples and one binary label and its testing set has 20,000 samples and one binary label."
      ]
    },
    {
      "cell_type": "markdown",
      "id": "immune-cedar",
      "metadata": {
        "id": "immune-cedar"
      },
      "source": [
        "4.2 Test size"
      ]
    },
    {
      "cell_type": "markdown",
      "id": "federal-soccer",
      "metadata": {
        "id": "federal-soccer"
      },
      "source": [
        "The test size is the percentage of the dataset set aside for training, in this case, it is 20,000 samples which is 20% of the dataset. The test size is 0.2."
      ]
    },
    {
      "cell_type": "markdown",
      "id": "dressed-celebrity",
      "metadata": {
        "id": "dressed-celebrity"
      },
      "source": [
        "# Question 5 : Useful Functions"
      ]
    },
    {
      "cell_type": "markdown",
      "id": "conventional-cooling",
      "metadata": {
        "id": "conventional-cooling"
      },
      "source": [
        " 5.1 Linear sum"
      ]
    },
    {
      "cell_type": "markdown",
      "id": "changed-operation",
      "metadata": {
        "id": "changed-operation"
      },
      "source": [
        "The function for the linear sum is : $z(\\boldsymbol{x}^{(i)}) = \\sum_{j=0}^n x_j^{(i)} \\theta_j\n",
        "$"
      ]
    },
    {
      "cell_type": "code",
      "execution_count": null,
      "id": "dutch-christopher",
      "metadata": {
        "id": "dutch-christopher"
      },
      "outputs": [],
      "source": [
        "def lin_sum(X, thetas):\n",
        "    return np.dot(X, thetas.reshape(-1,1)) #reshape coverts a 1D array to a 2D column vector"
      ]
    },
    {
      "cell_type": "markdown",
      "id": "confidential-samoa",
      "metadata": {
        "id": "confidential-samoa"
      },
      "source": [
        "5.2 Logistic Function"
      ]
    },
    {
      "cell_type": "markdown",
      "id": "aerial-music",
      "metadata": {
        "id": "aerial-music"
      },
      "source": [
        "The sigmoid function is: $\\sigma(z) = \\frac{1}{1 + e^{-z}}$"
      ]
    },
    {
      "cell_type": "code",
      "execution_count": null,
      "id": "short-gates",
      "metadata": {
        "id": "short-gates"
      },
      "outputs": [],
      "source": [
        "def sigmoid(z):   # z is an iput representing a linear combination of input features.\n",
        "    return 1 / (1 + np.exp(-z))"
      ]
    },
    {
      "cell_type": "markdown",
      "id": "collect-emphasis",
      "metadata": {
        "id": "collect-emphasis"
      },
      "source": [
        "5.3 Hypothesis Function"
      ]
    },
    {
      "cell_type": "markdown",
      "id": "progressive-burns",
      "metadata": {
        "id": "progressive-burns"
      },
      "source": [
        "The hypothesis function using the equations above is: $h(\\boldsymbol{X}, \\boldsymbol{\\theta}) = \\frac{1}{1 + e^{-\\boldsymbol{X} \\cdot \\boldsymbol{\\theta}}}$"
      ]
    },
    {
      "cell_type": "code",
      "execution_count": null,
      "id": "individual-lodging",
      "metadata": {
        "id": "individual-lodging"
      },
      "outputs": [],
      "source": [
        "def h_class(X, theta):\n",
        "    return sigmoid(lin_sum(X, theta)) # call the functions above"
      ]
    },
    {
      "cell_type": "markdown",
      "id": "enabling-thompson",
      "metadata": {
        "id": "enabling-thompson"
      },
      "source": [
        "5.4 Partial Derivatives of Cross-Entropy Cost Function"
      ]
    },
    {
      "cell_type": "markdown",
      "id": "medical-postage",
      "metadata": {
        "id": "medical-postage"
      },
      "source": [
        "The partial derivative function is: $\\frac{\\partial}{\\partial \\theta_j} J(\\theta) = \\frac{1}{m} \\sum_{i=1}^{m} \\left( h_\\theta(x^{(i)}) -  y^{(i)}\\right) x_j^{(i)}$"
      ]
    },
    {
      "cell_type": "code",
      "execution_count": null,
      "id": "applied-orientation",
      "metadata": {
        "id": "applied-orientation"
      },
      "outputs": [],
      "source": [
        "def derivatives_cross_entropy(y_preds, y_obs, x_feature):\n",
        "        m = len(y_obs)\n",
        "        # Convert the resulting array to a 1D vector using 'flatten' function\n",
        "        partial_derivative = (1/m) * np.dot((y_preds - y_obs).flatten() , x_feature.flatten())\n",
        "        return partial_derivative\n"
      ]
    },
    {
      "cell_type": "code",
      "execution_count": null,
      "id": "german-manufacturer",
      "metadata": {
        "id": "german-manufacturer",
        "outputId": "82f99ca7-ef1a-499f-d2e9-658e381343ce"
      },
      "outputs": [
        {
          "data": {
            "text/plain": [
              "(80000, 1)"
            ]
          },
          "execution_count": 137,
          "metadata": {},
          "output_type": "execute_result"
        }
      ],
      "source": [
        "y_preds.shape"
      ]
    },
    {
      "cell_type": "markdown",
      "id": "natural-numbers",
      "metadata": {
        "id": "natural-numbers"
      },
      "source": [
        "5.5 Cross-Entropy Cost Function"
      ]
    },
    {
      "cell_type": "markdown",
      "id": "statistical-pasta",
      "metadata": {
        "id": "statistical-pasta"
      },
      "source": [
        "The cost entropy cost function: $J(y_{\\text{vals}}, y_{\\text{preds}}) = -\\frac{1}{m} \\sum_{i=1}^{m} \\left(y_{\\text{vals}_i} \\cdot \\log(y_{\\text{preds}_i}) + (1 - y_{\\text{vals}_i}) \\cdot \\log(1 - y_{\\text{preds}_i})\\right)$"
      ]
    },
    {
      "cell_type": "code",
      "execution_count": null,
      "id": "interstate-least",
      "metadata": {
        "id": "interstate-least"
      },
      "outputs": [],
      "source": [
        "def cross_entropy_cost(y_vals, y_preds):\n",
        "    m = len(y_vals)  # Number of samples\n",
        "    cost = - (1/m) * np.sum(y_vals * np.log(y_preds) + (1 - y_vals) * np.log(1 - y_preds))\n",
        "\n",
        "    return cost"
      ]
    },
    {
      "cell_type": "markdown",
      "id": "ancient-percentage",
      "metadata": {
        "id": "ancient-percentage"
      },
      "source": [
        "# Question 6 :  Classifier"
      ]
    },
    {
      "cell_type": "code",
      "execution_count": null,
      "id": "burning-powell",
      "metadata": {
        "id": "burning-powell",
        "outputId": "eb47f0c5-28d9-44e8-a1c5-bf9e14e636e6"
      },
      "outputs": [
        {
          "name": "stdout",
          "output_type": "stream",
          "text": [
            "Starting gradient descent\n",
            "\n",
            "[10]\tt0 = -0.0125  t1 = -0.9231  t2 = -0.7524  Cost = 0.3993  dJ0 = 0.0058  dJ1 = 0.1085  dJ2 = 0.0810\n",
            "[20]\tt0 = -0.0491  t1 = -1.3147  t2 = -1.0276  Cost = 0.3471  dJ0 = 0.0079  dJ1 = 0.0614  dJ2 = 0.0409\n",
            "[30]\tt0 = -0.0874  t1 = -1.5629  t2 = -1.1868  Cost = 0.3281  dJ0 = 0.0073  dJ1 = 0.0420  dJ2 = 0.0261\n",
            "[40]\tt0 = -0.1214  t1 = -1.7411  t2 = -1.2947  Cost = 0.3187  dJ0 = 0.0063  dJ1 = 0.0312  dJ2 = 0.0186\n",
            "[50]\tt0 = -0.1503  t1 = -1.8771  t2 = -1.3743  Cost = 0.3133  dJ0 = 0.0054  dJ1 = 0.0243  dJ2 = 0.0141\n",
            "[60]\tt0 = -0.1747  t1 = -1.9847  t2 = -1.4360  Cost = 0.3100  dJ0 = 0.0045  dJ1 = 0.0195  dJ2 = 0.0111\n",
            "[70]\tt0 = -0.1953  t1 = -2.0719  t2 = -1.4854  Cost = 0.3078  dJ0 = 0.0038  dJ1 = 0.0159  dJ2 = 0.0090\n",
            "[80]\tt0 = -0.2126  t1 = -2.1439  t2 = -1.5259  Cost = 0.3063  dJ0 = 0.0032  dJ1 = 0.0132  dJ2 = 0.0074\n",
            "[90]\tt0 = -0.2274  t1 = -2.2041  t2 = -1.5597  Cost = 0.3053  dJ0 = 0.0027  dJ1 = 0.0111  dJ2 = 0.0062\n",
            "[200]\tt0 = -0.3023  t1 = -2.4995  t2 = -1.7264  Cost = 0.3026  dJ0 = 0.0006  dJ1 = 0.0023  dJ2 = 0.0013\n",
            "[300]\tt0 = -0.3194  t1 = -2.5647  t2 = -1.7642  Cost = 0.3025  dJ0 = 0.0002  dJ1 = 0.0007  dJ2 = 0.0004\n",
            "[400]\tt0 = -0.3245  t1 = -2.5840  t2 = -1.7755  Cost = 0.3025  dJ0 = 0.0001  dJ1 = 0.0002  dJ2 = 0.0001\n",
            "[500]\tt0 = -0.3261  t1 = -2.5899  t2 = -1.7790  Cost = 0.3025  dJ0 = 0.0000  dJ1 = 0.0001  dJ2 = 0.0000\n",
            "[600]\tt0 = -0.3266  t1 = -2.5917  t2 = -1.7801  Cost = 0.3025  dJ0 = 0.0000  dJ1 = 0.0000  dJ2 = 0.0000\n",
            "[700]\tt0 = -0.3267  t1 = -2.5922  t2 = -1.7804  Cost = 0.3025  dJ0 = 0.0000  dJ1 = 0.0000  dJ2 = 0.0000\n",
            "[800]\tt0 = -0.3268  t1 = -2.5924  t2 = -1.7805  Cost = 0.3025  dJ0 = 0.0000  dJ1 = 0.0000  dJ2 = 0.0000\n",
            "[900]\tt0 = -0.3268  t1 = -2.5925  t2 = -1.7805  Cost = 0.3025  dJ0 = 0.0000  dJ1 = 0.0000  dJ2 = 0.0000\n",
            "[1000]\tt0 = -0.3268  t1 = -2.5925  t2 = -1.7805  Cost = 0.3025  dJ0 = 0.0000  dJ1 = 0.0000  dJ2 = 0.0000\n",
            "\n",
            "End of gradient descent after 1000 iterations\n",
            "Optimized thetas:\n",
            "Theta 0 = -0.3268, Theta 1 = -2.5925, Theta 2 = -1.7805\n"
          ]
        }
      ],
      "source": [
        "# Hyperparameters\n",
        "alpha = 0.5  # Set your learning rate\n",
        "N = 1000  # Set the number of epochs\n",
        "\n",
        "# Number of features + 1 (number of columns in X)\n",
        "n = X_train.shape[1]\n",
        "\n",
        "# Initialization of theta *row vector*\n",
        "thetas = np.zeros((1, n))\n",
        "\n",
        "# Storing cost values for train and test datasets\n",
        "costs_train = []\n",
        "costs_test  = []\n",
        "\n",
        "print(\"Starting gradient descent\\n\")\n",
        "\n",
        "# -------------------\n",
        "#   Start iterations\n",
        "# -------------------\n",
        "for i in range(1, N+1):\n",
        "\n",
        "    # Get predictions using the hypothesis function\n",
        "    y_preds = h_class(X_train, thetas)\n",
        "    y_preds_test = h_class(X_test, thetas)\n",
        "\n",
        "    # Calculate and store costs with train and test datasets\n",
        "    J_train = cross_entropy_cost(y_train, y_preds)\n",
        "    J_test  = cross_entropy_cost(y_test, y_preds_test)\n",
        "    costs_train.append(J_train)\n",
        "    costs_test.append(J_test)\n",
        "\n",
        "   # Get partial derivatives d/dTheta_j\n",
        "    dJ_thetas = np.zeros(shape=(1, n))\n",
        "    for j in range(n):\n",
        "        dJ_thetas[0,j]= derivatives_cross_entropy(y_preds, y_train, X_train[:,j])\n",
        "\n",
        "    # Calculate new theta parameters:\n",
        "    thetas_new = thetas - alpha * dJ_thetas\n",
        "\n",
        "    # Update the parameters for the next iteration\n",
        "    thetas = thetas_new\n",
        "\n",
        "    # --------------------\n",
        "    #  P R I N T O U T S\n",
        "    # --------------------\n",
        "    # Every 10 iterations and n > 100 every 100 iterations\n",
        "    if (i<100 and i % 10 == 0) or (i>100 and i % 100 == 0):\n",
        "         print('[%d]\\tt0 = %4.4f  t1 = %4.4f  t2 = %4.4f  Cost = %4.4f  dJ0 = %4.4f  dJ1 = %4.4f  dJ2 = %4.4f' %\n",
        "         ( i,   thetas[0,0], thetas[0,1], thetas[0,2],   J_train,  dJ_thetas[0,0],   dJ_thetas[0,1],   dJ_thetas[0,2]))\n",
        "\n",
        "print(f'\\nEnd of gradient descent after {i} iterations')\n",
        "\n",
        "print('Optimized thetas:')\n",
        "print(f'Theta 0 = {thetas[0,0]:.4f}, Theta 1 = {thetas[0,1]:.4f}, Theta 2 = {thetas[0,2]:.4f}')"
      ]
    },
    {
      "cell_type": "code",
      "execution_count": null,
      "id": "ranking-african",
      "metadata": {
        "id": "ranking-african"
      },
      "outputs": [],
      "source": []
    },
    {
      "cell_type": "markdown",
      "id": "standing-progressive",
      "metadata": {
        "id": "standing-progressive"
      },
      "source": [
        "# 7. Plot cost versus epochs"
      ]
    },
    {
      "cell_type": "code",
      "execution_count": null,
      "id": "resident-peeing",
      "metadata": {
        "id": "resident-peeing"
      },
      "outputs": [],
      "source": [
        "import matplotlib.pyplot as plt\n",
        "\n",
        "def plot_cost_vs_iter(train_costs, test_costs, title=\"Gradient Descent: Cost evolution\"):\n",
        "\n",
        "  fig, ax = plt.subplots(figsize=(8, 6))\n",
        "\n",
        "  iters = np.arange(1,len(train_costs)+1)\n",
        "\n",
        "  ax.plot(iters, train_costs, color='red', lw=1, label='Training set')\n",
        "  ax.plot(iters, test_costs, color='blue', lw=1, label='Testing set')\n",
        "\n",
        "  ax.set_xlabel(\"Number of iterations\")\n",
        "  ax.set_ylabel(r\"Cost $J(\\theta)$\", rotation=\"horizontal\")\n",
        "  ax.yaxis.set_label_coords(-0.2, 0.5)\n",
        "\n",
        "  ax.legend(loc=\"upper right\", frameon=False)\n",
        "  ax.set_title(title, fontsize=18, pad=20)\n",
        "  plt.show()"
      ]
    },
    {
      "cell_type": "code",
      "execution_count": null,
      "id": "upset-atlas",
      "metadata": {
        "id": "upset-atlas",
        "outputId": "10c9c98c-a0f0-4beb-b168-60d248d33cba"
      },
      "outputs": [
        {
          "data": {
            "image/png": "[encoded data removed]",
            "text/plain": [
              "<Figure size 576x432 with 1 Axes>"
            ]
          },
          "metadata": {
            "needs_background": "light"
          },
          "output_type": "display_data"
        }
      ],
      "source": [
        "plot_cost_vs_iter(costs_train, costs_test)"
      ]
    },
    {
      "cell_type": "markdown",
      "id": "practical-match",
      "metadata": {
        "id": "practical-match"
      },
      "source": [
        "7.1: Describe the plot; what is the fundamental difference between the two series train and test?"
      ]
    },
    {
      "cell_type": "markdown",
      "id": "thermal-rubber",
      "metadata": {
        "id": "thermal-rubber"
      },
      "source": [
        "The plot shows the cost of the training and testing set as the number of iterations increase. \\\n",
        "The plot shows that as the number of iterations increase, the cost decreases as the model is learning and the parameters are optimized to minimize the cost.\\\n",
        "The fundamental difference is that the testing set has a lower cost than the training set."
      ]
    },
    {
      "cell_type": "markdown",
      "id": "immune-while",
      "metadata": {
        "id": "immune-while"
      },
      "source": [
        "7.2: What would it mean if there would be a bigger gap between the test and training values of the cost?"
      ]
    },
    {
      "cell_type": "markdown",
      "id": "crucial-logan",
      "metadata": {
        "id": "crucial-logan"
      },
      "source": [
        "If the gap was bigger, meaning the training set cost was way higher than the testing set cost, it would that the training data quality is low; it might have outliers, noise and the training data iterations might be insuufficient."
      ]
    },
    {
      "cell_type": "markdown",
      "id": "veterinary-concert",
      "metadata": {
        "id": "veterinary-concert"
      },
      "source": [
        "# 8. Performance"
      ]
    },
    {
      "cell_type": "code",
      "execution_count": null,
      "id": "cheap-renewal",
      "metadata": {
        "id": "cheap-renewal"
      },
      "outputs": [],
      "source": [
        "def make_predictions(thetas, X, y, boundary=0.5):\n",
        "\n",
        "\n",
        "    bin_preds = [1 if value > boundary else 0 for value in h_class(X, np.array(thetas))[:,0] ]\n",
        "\n",
        "    return bin_preds"
      ]
    },
    {
      "cell_type": "code",
      "execution_count": null,
      "id": "civil-professional",
      "metadata": {
        "id": "civil-professional"
      },
      "outputs": [],
      "source": [
        "# Call the function:\n",
        "preds = make_predictions(thetas, X_test, y_test, 0.5)"
      ]
    },
    {
      "cell_type": "code",
      "execution_count": null,
      "id": "olympic-cambodia",
      "metadata": {
        "id": "olympic-cambodia"
      },
      "outputs": [],
      "source": [
        "# Turn y_test into 1D array:\n",
        "obs_test = y_test[:,0]"
      ]
    },
    {
      "cell_type": "markdown",
      "id": "pretty-parker",
      "metadata": {
        "id": "pretty-parker"
      },
      "source": [
        "8.1 Accuracy"
      ]
    },
    {
      "cell_type": "code",
      "execution_count": null,
      "id": "opened-shipping",
      "metadata": {
        "id": "opened-shipping",
        "outputId": "19d88381-1575-400b-cdb8-03a9c62775b6"
      },
      "outputs": [
        {
          "name": "stdout",
          "output_type": "stream",
          "text": [
            "Accuracy: 88.06%\n"
          ]
        }
      ],
      "source": [
        "def get_accuracy(obs_values, pred_values):\n",
        "    correct_predictions = sum(1 for obs, pred in zip(obs_values, pred_values) if obs == pred)\n",
        "    total_samples = len(obs_values)\n",
        "    accuracy = correct_predictions / total_samples\n",
        "    return accuracy\n",
        "\n",
        "# Call the function using the test set\n",
        "accuracy = get_accuracy(obs_test, preds)\n",
        "print(f\"Accuracy: {accuracy * 100:.2f}%\")\n"
      ]
    },
    {
      "cell_type": "markdown",
      "id": "acquired-backing",
      "metadata": {
        "id": "acquired-backing"
      },
      "source": [
        "8.2 Recall"
      ]
    },
    {
      "cell_type": "code",
      "execution_count": null,
      "id": "adverse-album",
      "metadata": {
        "id": "adverse-album",
        "outputId": "40b04a15-f6da-47b0-a52a-025c1d98550d"
      },
      "outputs": [
        {
          "name": "stdout",
          "output_type": "stream",
          "text": [
            "Recall: 90.49%\n"
          ]
        }
      ],
      "source": [
        "def get_recall(obs_values, pred_values):\n",
        "    true_positives = sum(1 for obs, pred in zip(obs_values, pred_values) if obs == 1 and pred == 1)\n",
        "    actual_positives = sum(1 for obs in obs_values if obs == 1)\n",
        "\n",
        "    if actual_positives == 0:\n",
        "        recall = 0  # Avoid division by zero if there are no actual positives\n",
        "    else:\n",
        "        recall = true_positives / actual_positives\n",
        "\n",
        "    return recall\n",
        "\n",
        "# Call the function using the test set\n",
        "recall = get_recall(obs_test, preds)\n",
        "print(f\"Recall: {recall * 100:.2f}%\")\n",
        "\n"
      ]
    },
    {
      "cell_type": "code",
      "execution_count": null,
      "id": "competitive-senior",
      "metadata": {
        "id": "competitive-senior"
      },
      "outputs": [],
      "source": []
    }
  ],
  "metadata": {
    "kernelspec": {
      "display_name": "Python 3",
      "language": "python",
      "name": "python3"
    },
    "language_info": {
      "codemirror_mode": {
        "name": "ipython",
        "version": 3
      },
      "file_extension": ".py",
      "mimetype": "text/x-python",
      "name": "python",
      "nbconvert_exporter": "python",
      "pygments_lexer": "ipython3",
      "version": "3.9.2"
    },
    "colab": {
      "provenance": [],
      "include_colab_link": true
    }
  },
  "nbformat": 4,
  "nbformat_minor": 5
}