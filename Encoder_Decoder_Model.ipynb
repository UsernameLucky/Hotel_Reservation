{
  "cells": [
    {
      "cell_type": "markdown",
      "metadata": {
        "id": "view-in-github",
        "colab_type": "text"
      },
      "source": [
        "<a href=\"https://colab.research.google.com/github/UsernameLucky/Machine_Learning-projects/blob/main/Encoder_Decoder_Model.ipynb\" target=\"_parent\"><img src=\"https://colab.research.google.com/assets/colab-badge.svg\" alt=\"Open In Colab\"/></a>"
      ]
    },
    {
      "cell_type": "code",
      "execution_count": null,
      "id": "developing-catholic",
      "metadata": {
        "id": "developing-catholic",
        "outputId": "81b9107e-d89e-4b37-da15-9246790e4abf"
      },
      "outputs": [
        {
          "name": "stderr",
          "output_type": "stream",
          "text": [
            "/usr/lib/python3/dist-packages/requests/__init__.py:87: RequestsDependencyWarning: urllib3 (2.2.1) or chardet (4.0.0) doesn't match a supported version!\n",
            "  warnings.warn(\"urllib3 ({}) or chardet ({}) doesn't match a supported \"\n"
          ]
        }
      ],
      "source": [
        "import os, sys\n",
        "\n",
        "import tensorflow as tf\n",
        "from tensorflow.keras.models import Model\n",
        "from tensorflow.keras.layers import Input, LSTM, GRU, Dense, Embedding\n",
        "from tensorflow.keras.preprocessing.text import Tokenizer\n",
        "from tensorflow.keras.preprocessing.sequence import pad_sequences\n",
        "from tensorflow.keras.utils import to_categorical, plot_model, Sequence\n",
        "\n",
        "import numpy as np\n",
        "import matplotlib.pyplot as plt"
      ]
    },
    {
      "cell_type": "code",
      "execution_count": null,
      "id": "accepting-orleans",
      "metadata": {
        "id": "accepting-orleans"
      },
      "outputs": [],
      "source": [
        "# set parameter values\n",
        "BATCH_SIZE = 32\n",
        "EPOCHS = 10\n",
        "LSTM_NODES = 256\n",
        "NUM_SENTENCES = 20000\n",
        "MAX_SENTENCE_LENGTH = 50\n",
        "MAX_NUM_WORDS = 20000\n",
        "EMBEDDING_SIZE = 100\n",
        "\n",
        "# too short sentences\n",
        "NUM_SHORT = 2"
      ]
    },
    {
      "cell_type": "code",
      "execution_count": null,
      "id": "raised-bottle",
      "metadata": {
        "id": "raised-bottle"
      },
      "outputs": [],
      "source": [
        "input_sentences = []\n",
        "output_sentences = []\n",
        "output_sentences_inputs = []\n",
        "\n",
        "count = 0\n",
        "\n",
        "for line in open(r'UN_devset_french.txt', encoding=\"utf-8\"):\n",
        "    count += 1\n",
        "\n",
        "    if count > NUM_SENTENCES:\n",
        "        break\n",
        "\n",
        "    line = line.replace(\"\\n\",\"\")\n",
        "    input_sentences.append(line)\n",
        "\n",
        "for line in open(r'UN_devset_english.txt', encoding=\"utf-8\"):\n",
        "    count += 1\n",
        "\n",
        "    if count > NUM_SENTENCES:\n",
        "        break\n",
        "\n",
        "    line = line.replace(\"\\n\",\"\")\n",
        "\n",
        "    output_sentence = line + ' <eos>'\n",
        "    output_sentence_input = '<sos> ' + line\n",
        "\n",
        "    output_sentences.append(output_sentence)\n",
        "    output_sentences_inputs.append(output_sentence_input)"
      ]
    },
    {
      "cell_type": "code",
      "execution_count": null,
      "id": "continuing-parish",
      "metadata": {
        "id": "continuing-parish",
        "outputId": "bed800cd-29a5-48c5-fd62-b4229ae3bbc1"
      },
      "outputs": [
        {
          "data": {
            "text/plain": [
              "(4000, 4000, 4000)"
            ]
          },
          "execution_count": 24,
          "metadata": {},
          "output_type": "execute_result"
        }
      ],
      "source": [
        "len(output_sentences), len(output_sentences_inputs), len(input_sentences)"
      ]
    },
    {
      "cell_type": "code",
      "execution_count": null,
      "id": "czech-shooting",
      "metadata": {
        "id": "czech-shooting",
        "outputId": "92d30d51-d312-456b-81da-e2a709f14741"
      },
      "outputs": [
        {
          "name": "stdout",
          "output_type": "stream",
          "text": [
            "3 décembre\n",
            "3 December <eos>\n",
            "<sos> 3 December\n"
          ]
        }
      ],
      "source": [
        "# print a sentence from the input_sentences[], output_sentences[], and output_sentences_inputs[] lists:\n",
        "print(input_sentences[33])\n",
        "print(output_sentences[33])\n",
        "print(output_sentences_inputs[33])"
      ]
    },
    {
      "cell_type": "code",
      "execution_count": null,
      "id": "nonprofit-butterfly",
      "metadata": {
        "id": "nonprofit-butterfly"
      },
      "outputs": [],
      "source": [
        "#input sequence tokenisation\n",
        "input_tokenizer = Tokenizer(num_words=MAX_NUM_WORDS)\n",
        "input_tokenizer.fit_on_texts(input_sentences)\n",
        "input_integer_seq = input_tokenizer.texts_to_sequences(input_sentences)"
      ]
    },
    {
      "cell_type": "code",
      "execution_count": null,
      "id": "interstate-infrared",
      "metadata": {
        "id": "interstate-infrared",
        "outputId": "84c8d1a2-fb3c-4b74-c3a2-041205e162b6"
      },
      "outputs": [
        {
          "name": "stdout",
          "output_type": "stream",
          "text": [
            "Total unique words in the input: 11310\n"
          ]
        }
      ],
      "source": [
        "word2idx_inputs = input_tokenizer.word_index\n",
        "print('Total unique words in the input: %s' % len(word2idx_inputs))"
      ]
    },
    {
      "cell_type": "code",
      "execution_count": null,
      "id": "congressional-plain",
      "metadata": {
        "id": "congressional-plain",
        "outputId": "0a4ce279-26be-4047-8f98-b3d9cf660adf"
      },
      "outputs": [
        {
          "name": "stdout",
          "output_type": "stream",
          "text": [
            "Length of longest sentence in input: 113\n"
          ]
        }
      ],
      "source": [
        "max_input_len = max(len(sen) for sen in input_integer_seq)\n",
        "print(\"Length of longest sentence in input: %g\" % max_input_len)"
      ]
    },
    {
      "cell_type": "code",
      "execution_count": null,
      "id": "important-spray",
      "metadata": {
        "id": "important-spray"
      },
      "outputs": [],
      "source": [
        "# Output sequence tokenization\n",
        "output_tokenizer = Tokenizer(num_words=MAX_NUM_WORDS, filters='')\n",
        "output_tokenizer.fit_on_texts(output_sentences + output_sentences_inputs)\n",
        "output_integer_seq = output_tokenizer.texts_to_sequences(output_sentences)\n",
        "output_input_integer_seq = output_tokenizer.texts_to_sequences(output_sentences_inputs)"
      ]
    },
    {
      "cell_type": "code",
      "execution_count": null,
      "id": "alleged-austin",
      "metadata": {
        "id": "alleged-austin",
        "outputId": "af619bc1-8f1b-4c9c-cea6-b73baa7dead7"
      },
      "outputs": [
        {
          "name": "stdout",
          "output_type": "stream",
          "text": [
            "Total unique words in the output: 13097\n"
          ]
        }
      ],
      "source": [
        "word2idx_outputs = output_tokenizer.word_index\n",
        "print('Total unique words in the output: %s' % len(word2idx_outputs))"
      ]
    },
    {
      "cell_type": "code",
      "execution_count": null,
      "id": "conventional-diamond",
      "metadata": {
        "id": "conventional-diamond",
        "outputId": "8cfe16b8-c3fb-47a1-a2bc-3324d37aeacb"
      },
      "outputs": [
        {
          "name": "stdout",
          "output_type": "stream",
          "text": [
            "Length of longest sentence in the output: 80\n"
          ]
        }
      ],
      "source": [
        "num_words_output = len(word2idx_outputs) + 1\n",
        "max_out_len = max(len(sen) for sen in output_integer_seq)\n",
        "print(\"Length of longest sentence in the output: %g\" % max_out_len)"
      ]
    },
    {
      "cell_type": "markdown",
      "id": "developmental-delhi",
      "metadata": {
        "id": "developmental-delhi"
      },
      "source": [
        "### Padding"
      ]
    },
    {
      "cell_type": "code",
      "execution_count": null,
      "id": "chicken-invalid",
      "metadata": {
        "id": "chicken-invalid",
        "outputId": "2f8a4470-5275-4513-8a9b-803c860b7f79"
      },
      "outputs": [
        {
          "name": "stdout",
          "output_type": "stream",
          "text": [
            "encoder_input_sequences.shape: (4000, 113)\n"
          ]
        }
      ],
      "source": [
        "# defines the encoder input dimension\n",
        "encoder_input_sequences = pad_sequences(input_integer_seq, maxlen=max_input_len)\n",
        "print(\"encoder_input_sequences.shape:\", encoder_input_sequences.shape)"
      ]
    },
    {
      "cell_type": "code",
      "execution_count": null,
      "id": "domestic-dress",
      "metadata": {
        "id": "domestic-dress",
        "outputId": "6f0b5810-4ac1-43bb-b2dd-1777a4069fb6"
      },
      "outputs": [
        {
          "name": "stdout",
          "output_type": "stream",
          "text": [
            "encoder_input_sequences[33]: [  0   0   0   0   0   0   0   0   0   0   0   0   0   0   0   0   0   0\n",
            "   0   0   0   0   0   0   0   0   0   0   0   0   0   0   0   0   0   0\n",
            "   0   0   0   0   0   0   0   0   0   0   0   0   0   0   0   0   0   0\n",
            "   0   0   0   0   0   0   0   0   0   0   0   0   0   0   0   0   0   0\n",
            "   0   0   0   0   0   0   0   0   0   0   0   0   0   0   0   0   0   0\n",
            "   0   0   0   0   0   0   0   0   0   0   0   0   0   0   0   0   0   0\n",
            "   0   0   0 102 205]\n"
          ]
        }
      ],
      "source": [
        "print(\"encoder_input_sequences[33]:\", encoder_input_sequences[33])"
      ]
    },
    {
      "cell_type": "code",
      "execution_count": null,
      "id": "healthy-physics",
      "metadata": {
        "id": "healthy-physics",
        "outputId": "d1c57a19-c66d-426f-ad14-784be6dad79c"
      },
      "outputs": [
        {
          "name": "stdout",
          "output_type": "stream",
          "text": [
            "205\n",
            "102\n"
          ]
        }
      ],
      "source": [
        "# verify that the integer values for some examples\n",
        "print(word2idx_inputs[\"décembre\"])\n",
        "print(word2idx_inputs[\"3\"])"
      ]
    },
    {
      "cell_type": "code",
      "execution_count": null,
      "id": "formed-necklace",
      "metadata": {
        "id": "formed-necklace",
        "outputId": "1b67cf56-03ab-42c5-8c41-4dbcef7fa237"
      },
      "outputs": [
        {
          "name": "stdout",
          "output_type": "stream",
          "text": [
            "decoder_input_sequences.shape: (4000, 80)\n"
          ]
        }
      ],
      "source": [
        "# define the decoders input dimension\n",
        "decoder_input_sequences = pad_sequences(output_input_integer_seq, maxlen=max_out_len, padding='post')\n",
        "print(\"decoder_input_sequences.shape:\", decoder_input_sequences.shape)"
      ]
    },
    {
      "cell_type": "code",
      "execution_count": null,
      "id": "lovely-ballet",
      "metadata": {
        "id": "lovely-ballet",
        "outputId": "1ef9898a-dec4-4ef2-e9c1-84ee79a98b75"
      },
      "outputs": [
        {
          "name": "stdout",
          "output_type": "stream",
          "text": [
            "decoder_input_sequences[33]: [  7 280 204   0   0   0   0   0   0   0   0   0   0   0   0   0   0   0\n",
            "   0   0   0   0   0   0   0   0   0   0   0   0   0   0   0   0   0   0\n",
            "   0   0   0   0   0   0   0   0   0   0   0   0   0   0   0   0   0   0\n",
            "   0   0   0   0   0   0   0   0   0   0   0   0   0   0   0   0   0   0\n",
            "   0   0   0   0   0   0   0   0]\n"
          ]
        }
      ],
      "source": [
        "print(\"decoder_input_sequences[33]:\", decoder_input_sequences[33])"
      ]
    },
    {
      "cell_type": "code",
      "execution_count": null,
      "id": "generic-catalyst",
      "metadata": {
        "id": "generic-catalyst",
        "outputId": "f7078179-657c-4dac-e63f-a25ec6d96401"
      },
      "outputs": [
        {
          "name": "stdout",
          "output_type": "stream",
          "text": [
            "7\n",
            "73\n",
            "1327\n",
            "886\n"
          ]
        }
      ],
      "source": [
        "# print the corresponding integers from the word2idx_outputs dictionary,\n",
        "print(word2idx_outputs[\"<sos>\"])\n",
        "print(word2idx_outputs[\"i\"])\n",
        "print(word2idx_outputs[\"am\"])\n",
        "print(word2idx_outputs[\"seek\"])"
      ]
    },
    {
      "cell_type": "markdown",
      "id": "scenic-monte",
      "metadata": {
        "id": "scenic-monte"
      },
      "source": [
        "### Word embedding"
      ]
    },
    {
      "cell_type": "code",
      "execution_count": null,
      "id": "intended-clock",
      "metadata": {
        "id": "intended-clock"
      },
      "outputs": [],
      "source": [
        "embeddings_dictionary = dict()\n",
        "\n",
        "glove_file = r'glove.6B.100d.txt'\n",
        "glove_file = open(glove_file, encoding=\"utf8\")\n",
        "\n",
        "for line in glove_file:\n",
        "    records = line.split()\n",
        "    word = records[0]\n",
        "    vector_dimensions = np.asarray(records[1:], dtype='float32')\n",
        "    embeddings_dictionary[word] = vector_dimensions\n",
        "glove_file.close()"
      ]
    },
    {
      "cell_type": "code",
      "execution_count": null,
      "id": "delayed-picnic",
      "metadata": {
        "id": "delayed-picnic"
      },
      "outputs": [],
      "source": [
        "num_words_outputs = min(MAX_NUM_WORDS, len(word2idx_outputs) + 1)\n",
        "embedding_matrix = np.zeros((num_words_outputs, EMBEDDING_SIZE))\n",
        "for word, index in word2idx_outputs.items():\n",
        "    embedding_vector = embeddings_dictionary.get(word)\n",
        "    if embedding_vector is not None:\n",
        "        embedding_matrix[index] = embedding_vector"
      ]
    },
    {
      "cell_type": "code",
      "execution_count": null,
      "id": "binary-tulsa",
      "metadata": {
        "id": "binary-tulsa",
        "outputId": "0659f231-c790-47a7-f16c-24226d569e74"
      },
      "outputs": [
        {
          "data": {
            "text/plain": [
              "(13098, 100)"
            ]
          },
          "execution_count": 158,
          "metadata": {},
          "output_type": "execute_result"
        }
      ],
      "source": [
        "embedding_matrix.shape"
      ]
    },
    {
      "cell_type": "code",
      "execution_count": null,
      "id": "sudden-corrections",
      "metadata": {
        "id": "sudden-corrections",
        "outputId": "81b5dbac-9d6e-4d32-ba75-3f7ed02827b5"
      },
      "outputs": [
        {
          "name": "stdout",
          "output_type": "stream",
          "text": [
            "[-0.038194 -0.24487   0.72812  -0.39961   0.083172  0.043953 -0.39141\n",
            "  0.3344   -0.57545   0.087459  0.28787  -0.06731   0.30906  -0.26384\n",
            " -0.13231  -0.20757   0.33395  -0.33848  -0.31743  -0.48336   0.1464\n",
            " -0.37304   0.34577   0.052041  0.44946  -0.46971   0.02628  -0.54155\n",
            " -0.15518  -0.14107  -0.039722  0.28277   0.14393   0.23464  -0.31021\n",
            "  0.086173  0.20397   0.52624   0.17164  -0.082378 -0.71787  -0.41531\n",
            "  0.20335  -0.12763   0.41367   0.55187   0.57908  -0.33477  -0.36559\n",
            " -0.54857  -0.062892  0.26584   0.30205   0.99775  -0.80481  -3.0243\n",
            "  0.01254  -0.36942   2.2167    0.72201  -0.24978   0.92136   0.034514\n",
            "  0.46745   1.1079   -0.19358  -0.074575  0.23353  -0.052062 -0.22044\n",
            "  0.057162 -0.15806  -0.30798  -0.41625   0.37972   0.15006  -0.53212\n",
            " -0.2055   -1.2526    0.071624  0.70565   0.49744  -0.42063   0.26148\n",
            " -1.538    -0.30223  -0.073438 -0.28312   0.37104  -0.25217   0.016215\n",
            " -0.017099 -0.38984   0.87424  -0.72569  -0.51058  -0.52028  -0.1459\n",
            "  0.8278    0.27062 ]\n"
          ]
        }
      ],
      "source": [
        "# print embedding of the\n",
        "print(embeddings_dictionary[\"the\"])"
      ]
    },
    {
      "cell_type": "code",
      "execution_count": null,
      "id": "molecular-treasury",
      "metadata": {
        "id": "molecular-treasury"
      },
      "outputs": [],
      "source": []
    },
    {
      "cell_type": "code",
      "execution_count": null,
      "id": "afraid-forest",
      "metadata": {
        "id": "afraid-forest"
      },
      "outputs": [],
      "source": []
    },
    {
      "cell_type": "code",
      "execution_count": null,
      "id": "included-encoding",
      "metadata": {
        "id": "included-encoding"
      },
      "outputs": [],
      "source": [
        "## MODEL"
      ]
    },
    {
      "cell_type": "code",
      "execution_count": null,
      "id": "discrete-charge",
      "metadata": {
        "id": "discrete-charge"
      },
      "outputs": [],
      "source": [
        "# create the embedding layer for the INPUT (FRENCH)\n",
        "num_words = min(MAX_NUM_WORDS, len(word2idx_inputs) + 1)\n",
        "embedding_layer = Embedding(num_words, LSTM_NODES)"
      ]
    },
    {
      "cell_type": "code",
      "execution_count": null,
      "id": "associate-failing",
      "metadata": {
        "id": "associate-failing"
      },
      "outputs": [],
      "source": [
        "decoder_targets_one_hot = np.zeros((\n",
        "        len(input_sentences),\n",
        "        max_out_len,\n",
        "        num_words_output\n",
        "    ),\n",
        "    dtype='float32'\n",
        ")"
      ]
    },
    {
      "cell_type": "code",
      "execution_count": null,
      "id": "certain-sitting",
      "metadata": {
        "id": "certain-sitting",
        "outputId": "b0969819-ee52-40f5-c8ba-7cc3b2ce83d5"
      },
      "outputs": [
        {
          "data": {
            "text/plain": [
              "(4000, 80, 13098)"
            ]
          },
          "execution_count": 162,
          "metadata": {},
          "output_type": "execute_result"
        }
      ],
      "source": [
        "# print shape of decoder\n",
        "decoder_targets_one_hot.shape"
      ]
    },
    {
      "cell_type": "code",
      "execution_count": null,
      "id": "northern-union",
      "metadata": {
        "id": "northern-union"
      },
      "outputs": [],
      "source": [
        "decoder_output_sequences = pad_sequences(output_integer_seq, maxlen=max_out_len, padding='post')"
      ]
    },
    {
      "cell_type": "code",
      "execution_count": null,
      "id": "devoted-breakdown",
      "metadata": {
        "id": "devoted-breakdown"
      },
      "outputs": [],
      "source": []
    },
    {
      "cell_type": "code",
      "execution_count": null,
      "id": "moral-scratch",
      "metadata": {
        "id": "moral-scratch"
      },
      "outputs": [],
      "source": [
        "for i, d in enumerate(decoder_output_sequences):\n",
        "    for t, word in enumerate(d):\n",
        "        decoder_targets_one_hot[i, t, word] = 1"
      ]
    },
    {
      "cell_type": "code",
      "execution_count": null,
      "id": "radio-romantic",
      "metadata": {
        "id": "radio-romantic"
      },
      "outputs": [],
      "source": []
    },
    {
      "cell_type": "code",
      "execution_count": null,
      "id": "crude-amendment",
      "metadata": {
        "id": "crude-amendment"
      },
      "outputs": [],
      "source": [
        "# Create the encoder and decoders.\n",
        "# The input to the encoder will be the sentence in FRENCH and the output will be the hidden state and cell state of the LSTM\n",
        "encoder_inputs_placeholder = Input(shape=(max_input_len,))\n",
        "x = embedding_layer(encoder_inputs_placeholder)\n",
        "encoder = LSTM(LSTM_NODES, return_state=True)\n",
        "\n",
        "encoder_outputs, h, c = encoder(x)\n",
        "encoder_states = [h, c]"
      ]
    },
    {
      "cell_type": "code",
      "execution_count": null,
      "id": "brilliant-mathematics",
      "metadata": {
        "id": "brilliant-mathematics"
      },
      "outputs": [],
      "source": [
        "# The next step is to define the decoder.\n",
        "# The decoder will have two inputs:\n",
        "#   the hidden state and cell state from the encoder and the input sentence, which actually will be the output sentence with an <sos> token appended at the beginning.\n",
        "decoder_inputs_placeholder = Input(shape=(max_out_len,))\n",
        "\n",
        "\n",
        "\n",
        "decoder_embedding = Embedding(num_words_output,\n",
        "                            EMBEDDING_SIZE,\n",
        "                            weights=[embedding_matrix],\n",
        "                            input_length=max_out_len)\n",
        "# Embedding(num_words_output, LSTM_NODES)\n",
        "\n",
        "decoder_inputs_x = decoder_embedding(decoder_inputs_placeholder)\n",
        "\n",
        "decoder_lstm = LSTM(LSTM_NODES, return_sequences=True, return_state=True)\n",
        "decoder_outputs, _, _ = decoder_lstm(decoder_inputs_x, initial_state=encoder_states)"
      ]
    },
    {
      "cell_type": "code",
      "execution_count": null,
      "id": "adjustable-textbook",
      "metadata": {
        "id": "adjustable-textbook"
      },
      "outputs": [],
      "source": [
        "# Finally, the output from the decoder LSTM is passed through a dense layer to predict decoder outputs\n",
        "decoder_dense = Dense(num_words_output, activation='softmax')\n",
        "decoder_outputs = decoder_dense(decoder_outputs)"
      ]
    },
    {
      "cell_type": "code",
      "execution_count": null,
      "id": "capable-leather",
      "metadata": {
        "id": "capable-leather"
      },
      "outputs": [],
      "source": [
        "# compile the model:\n",
        "model = Model([encoder_inputs_placeholder, decoder_inputs_placeholder], decoder_outputs)\n",
        "model.compile(\n",
        "    optimizer='rmsprop',\n",
        "    loss='categorical_crossentropy',\n",
        "    metrics=['accuracy']\n",
        ")"
      ]
    },
    {
      "cell_type": "code",
      "execution_count": null,
      "id": "korean-therapy",
      "metadata": {
        "id": "korean-therapy",
        "outputId": "fdf128b3-71c5-431e-8275-0cd397032365"
      },
      "outputs": [
        {
          "data": {
            "image/png": "[encoded data removed]",
            "text/plain": [
              "<IPython.core.display.Image object>"
            ]
          },
          "execution_count": 169,
          "metadata": {},
          "output_type": "execute_result"
        }
      ],
      "source": [
        "# plot our model :\n",
        "plot_model(model, to_file='model_plot4a.png', show_shapes=True, show_layer_names=True)"
      ]
    },
    {
      "cell_type": "code",
      "execution_count": null,
      "id": "imperial-blink",
      "metadata": {
        "id": "imperial-blink",
        "outputId": "0383b484-040d-4959-e781-20698b363ea8"
      },
      "outputs": [
        {
          "name": "stdout",
          "output_type": "stream",
          "text": [
            "Epoch 1/4\n",
            "113/113 [==============================] - 234s 2s/step - loss: 3.1213 - accuracy: 0.6617 - val_loss: 2.4420 - val_accuracy: 0.6806\n",
            "Epoch 2/4\n",
            "113/113 [==============================] - 254s 2s/step - loss: 2.3376 - accuracy: 0.6940 - val_loss: 2.3718 - val_accuracy: 0.6998\n",
            "Epoch 3/4\n",
            "113/113 [==============================] - 228s 2s/step - loss: 2.2762 - accuracy: 0.7051 - val_loss: 2.3327 - val_accuracy: 0.7026\n",
            "Epoch 4/4\n",
            "113/113 [==============================] - 191s 2s/step - loss: 2.2410 - accuracy: 0.7082 - val_loss: 2.3082 - val_accuracy: 0.7048\n"
          ]
        }
      ],
      "source": [
        "# fit the model: disable GPU to run on cpu only\n",
        "# comment on colab\n",
        "with tf.device('/cpu:0'):\n",
        "    r = model.fit(\n",
        "        [encoder_input_sequences, decoder_input_sequences],\n",
        "        decoder_targets_one_hot,\n",
        "        batch_size=BATCH_SIZE,\n",
        "        epochs=EPOCHS,\n",
        "        validation_split=0.1,\n",
        "    )"
      ]
    },
    {
      "cell_type": "code",
      "execution_count": null,
      "id": "communist-gateway",
      "metadata": {
        "id": "communist-gateway"
      },
      "outputs": [],
      "source": []
    },
    {
      "cell_type": "code",
      "execution_count": null,
      "id": "frequent-plastic",
      "metadata": {
        "id": "frequent-plastic"
      },
      "outputs": [],
      "source": [
        "encoder_model = Model(encoder_inputs_placeholder, encoder_states)\n",
        "\n",
        "# Since now at each step we need the decoder hidden and cell states, we will modify our model to accept the hidden and cell states as shown below:\n",
        "decoder_state_input_h = Input(shape=(LSTM_NODES,))\n",
        "decoder_state_input_c = Input(shape=(LSTM_NODES,))\n",
        "decoder_states_inputs = [decoder_state_input_h, decoder_state_input_c]"
      ]
    },
    {
      "cell_type": "code",
      "execution_count": null,
      "id": "stuffed-childhood",
      "metadata": {
        "id": "stuffed-childhood"
      },
      "outputs": [],
      "source": [
        "# Now at each time step, there will be only single word in the decoder input, we need to modify the decoder embedding layer as follows:\n",
        "decoder_inputs_single = Input(shape=(1,))\n",
        "decoder_inputs_single_x = decoder_embedding(decoder_inputs_single)"
      ]
    },
    {
      "cell_type": "code",
      "execution_count": null,
      "id": "guilty-guard",
      "metadata": {
        "id": "guilty-guard"
      },
      "outputs": [],
      "source": [
        "# Next, we need to create the placeholder for decoder outputs:\n",
        "decoder_outputs, h, c = decoder_lstm(decoder_inputs_single_x, initial_state=decoder_states_inputs)"
      ]
    },
    {
      "cell_type": "code",
      "execution_count": null,
      "id": "unauthorized-grove",
      "metadata": {
        "id": "unauthorized-grove"
      },
      "outputs": [],
      "source": [
        "# To make predictions, the decoder output is passed through the dense layer:\n",
        "decoder_states = [h, c]\n",
        "decoder_outputs = decoder_dense(decoder_outputs)"
      ]
    },
    {
      "cell_type": "code",
      "execution_count": null,
      "id": "automotive-british",
      "metadata": {
        "id": "automotive-british"
      },
      "outputs": [],
      "source": [
        "# The final step is to define the updated decoder model, as shown here:\n",
        "\n",
        "decoder_model = Model(\n",
        "    [decoder_inputs_single] + decoder_states_inputs,\n",
        "    [decoder_outputs] + decoder_states\n",
        ")"
      ]
    },
    {
      "cell_type": "code",
      "execution_count": null,
      "id": "ethical-palmer",
      "metadata": {
        "id": "ethical-palmer",
        "outputId": "7e554440-fd6a-4a7a-f794-c71f0ae417fd"
      },
      "outputs": [
        {
          "data": {
            "image/png": "[encoded data removed]",
            "text/plain": [
              "<IPython.core.display.Image object>"
            ]
          },
          "execution_count": 176,
          "metadata": {},
          "output_type": "execute_result"
        }
      ],
      "source": [
        "# Let's now plot our modified decoder LSTM that makes predictions:\n",
        "plot_model(decoder_model, to_file='model_plot_dec.png', show_shapes=True, show_layer_names=True)\n"
      ]
    },
    {
      "cell_type": "code",
      "execution_count": null,
      "id": "unlikely-minimum",
      "metadata": {
        "id": "unlikely-minimum"
      },
      "outputs": [],
      "source": []
    },
    {
      "cell_type": "code",
      "execution_count": null,
      "id": "animated-supervision",
      "metadata": {
        "id": "animated-supervision"
      },
      "outputs": [],
      "source": [
        "def translate_sentence(input_seq):\n",
        "    states_value = encoder_model.predict(input_seq)\n",
        "    target_seq = np.zeros((1, 1))\n",
        "    target_seq[0, 0] = word2idx_outputs['<sos>']\n",
        "    eos = word2idx_outputs['<eos>']\n",
        "    output_sentence = []\n",
        "\n",
        "    for _ in range(max_out_len):\n",
        "        output_tokens, h, c = decoder_model.predict([target_seq] + states_value)\n",
        "        idx = np.argmax(output_tokens[0, 0, :])\n",
        "\n",
        "        if eos == idx:\n",
        "            break\n",
        "\n",
        "        word = ''\n",
        "\n",
        "        if idx > 0:\n",
        "            word = idx2word_target[idx]\n",
        "            output_sentence.append(word)\n",
        "\n",
        "        target_seq[0, 0] = idx\n",
        "        states_value = [h, c]\n",
        "\n",
        "    return ' '.join(output_sentence)"
      ]
    },
    {
      "cell_type": "code",
      "execution_count": null,
      "id": "furnished-navigation",
      "metadata": {
        "id": "furnished-navigation"
      },
      "outputs": [],
      "source": [
        "idx2word_input = {v:k for k, v in word2idx_inputs.items()}\n",
        "idx2word_target = {v:k for k, v in word2idx_outputs.items()}"
      ]
    },
    {
      "cell_type": "code",
      "execution_count": null,
      "id": "incorporate-cooperative",
      "metadata": {
        "id": "incorporate-cooperative",
        "outputId": "b9754fbf-a944-4087-a6f5-db44cdbf94a2"
      },
      "outputs": [
        {
          "name": "stdout",
          "output_type": "stream",
          "text": [
            "1/1 [==============================] - 0s 63ms/step\n",
            "1/1 [==============================] - 0s 34ms/step\n",
            "1/1 [==============================] - 0s 36ms/step\n",
            "1/1 [==============================] - 0s 25ms/step\n",
            "1/1 [==============================] - 0s 20ms/step\n",
            "1/1 [==============================] - 0s 26ms/step\n",
            "1/1 [==============================] - 0s 27ms/step\n",
            "1/1 [==============================] - 0s 28ms/step\n",
            "1/1 [==============================] - 0s 25ms/step\n",
            "1/1 [==============================] - 0s 34ms/step\n",
            "1/1 [==============================] - 0s 26ms/step\n",
            "1/1 [==============================] - 0s 28ms/step\n",
            "1/1 [==============================] - 0s 24ms/step\n",
            "1/1 [==============================] - 0s 24ms/step\n",
            "1/1 [==============================] - 0s 23ms/step\n",
            "1/1 [==============================] - 0s 25ms/step\n",
            "1/1 [==============================] - 0s 24ms/step\n",
            "1/1 [==============================] - 0s 26ms/step\n",
            "1/1 [==============================] - 0s 22ms/step\n",
            "1/1 [==============================] - 0s 28ms/step\n",
            "1/1 [==============================] - 0s 21ms/step\n",
            "1/1 [==============================] - 0s 27ms/step\n",
            "1/1 [==============================] - 0s 21ms/step\n",
            "1/1 [==============================] - 0s 25ms/step\n",
            "1/1 [==============================] - 0s 30ms/step\n",
            "1/1 [==============================] - 0s 30ms/step\n",
            "1/1 [==============================] - 0s 32ms/step\n",
            "1/1 [==============================] - 0s 33ms/step\n",
            "1/1 [==============================] - 0s 28ms/step\n",
            "1/1 [==============================] - 0s 37ms/step\n",
            "1/1 [==============================] - 0s 30ms/step\n",
            "1/1 [==============================] - 0s 30ms/step\n",
            "1/1 [==============================] - 0s 33ms/step\n",
            "1/1 [==============================] - 0s 32ms/step\n",
            "1/1 [==============================] - 0s 22ms/step\n",
            "1/1 [==============================] - 0s 31ms/step\n",
            "1/1 [==============================] - 0s 22ms/step\n",
            "1/1 [==============================] - 0s 32ms/step\n",
            "1/1 [==============================] - 0s 30ms/step\n",
            "1/1 [==============================] - 0s 34ms/step\n",
            "1/1 [==============================] - 0s 25ms/step\n",
            "1/1 [==============================] - 0s 33ms/step\n",
            "1/1 [==============================] - 0s 24ms/step\n",
            "1/1 [==============================] - 0s 33ms/step\n",
            "1/1 [==============================] - 0s 24ms/step\n",
            "1/1 [==============================] - 0s 25ms/step\n",
            "1/1 [==============================] - 0s 27ms/step\n",
            "1/1 [==============================] - 0s 29ms/step\n",
            "1/1 [==============================] - 0s 28ms/step\n",
            "1/1 [==============================] - 0s 33ms/step\n",
            "1/1 [==============================] - 0s 31ms/step\n",
            "1/1 [==============================] - 0s 29ms/step\n",
            "1/1 [==============================] - 0s 31ms/step\n",
            "1/1 [==============================] - 0s 24ms/step\n",
            "1/1 [==============================] - 0s 32ms/step\n",
            "1/1 [==============================] - 0s 32ms/step\n",
            "1/1 [==============================] - 0s 32ms/step\n",
            "1/1 [==============================] - 0s 26ms/step\n",
            "1/1 [==============================] - 0s 35ms/step\n",
            "1/1 [==============================] - 0s 37ms/step\n",
            "1/1 [==============================] - 0s 32ms/step\n",
            "1/1 [==============================] - 0s 36ms/step\n",
            "1/1 [==============================] - 0s 32ms/step\n",
            "1/1 [==============================] - 0s 33ms/step\n",
            "1/1 [==============================] - 0s 36ms/step\n",
            "1/1 [==============================] - 0s 32ms/step\n",
            "1/1 [==============================] - 0s 32ms/step\n",
            "1/1 [==============================] - 0s 31ms/step\n",
            "1/1 [==============================] - 0s 23ms/step\n",
            "1/1 [==============================] - 0s 25ms/step\n",
            "1/1 [==============================] - 0s 27ms/step\n",
            "1/1 [==============================] - 0s 27ms/step\n",
            "1/1 [==============================] - 0s 34ms/step\n",
            "1/1 [==============================] - 0s 35ms/step\n",
            "1/1 [==============================] - 0s 25ms/step\n",
            "1/1 [==============================] - 0s 28ms/step\n",
            "1/1 [==============================] - 0s 26ms/step\n",
            "1/1 [==============================] - 0s 23ms/step\n",
            "1/1 [==============================] - 0s 20ms/step\n",
            "1/1 [==============================] - 0s 25ms/step\n",
            "1/1 [==============================] - 0s 22ms/step\n"
          ]
        }
      ],
      "source": [
        "i = np.random.choice(len(input_sentences))\n",
        "input_seq = encoder_input_sequences[i:i+1]\n",
        "translation = translate_sentence(input_seq)"
      ]
    },
    {
      "cell_type": "code",
      "execution_count": null,
      "id": "norwegian-fellow",
      "metadata": {
        "id": "norwegian-fellow",
        "outputId": "62d5be3f-a247-4dc6-bfe4-a37a35b23287"
      },
      "outputs": [
        {
          "name": "stdout",
          "output_type": "stream",
          "text": [
            "-\n",
            "Input: D'éminents dirigeants autochtones ont été invités à prendre la parole à cette occasion et à participer à divers ateliers et à y intervenir.\n",
            "Response: the the the the the the the the the the the the the the the the the the the the the the the the the the the the the the the the the the the the the the the the the the the the the the the the the the the the the the the the the the the the the the the the the the the the the the the the the the the the the the the the\n"
          ]
        }
      ],
      "source": [
        "print('-')\n",
        "print('Input:', input_sentences[i])\n",
        "print('Response:', translation)"
      ]
    },
    {
      "cell_type": "code",
      "execution_count": null,
      "id": "motivated-departure",
      "metadata": {
        "id": "motivated-departure"
      },
      "outputs": [],
      "source": []
    }
  ],
  "metadata": {
    "kernelspec": {
      "display_name": "Python 3",
      "language": "python",
      "name": "python3"
    },
    "language_info": {
      "codemirror_mode": {
        "name": "ipython",
        "version": 3
      },
      "file_extension": ".py",
      "mimetype": "text/x-python",
      "name": "python",
      "nbconvert_exporter": "python",
      "pygments_lexer": "ipython3",
      "version": "3.9.2"
    },
    "colab": {
      "provenance": [],
      "include_colab_link": true
    }
  },
  "nbformat": 4,
  "nbformat_minor": 5
}