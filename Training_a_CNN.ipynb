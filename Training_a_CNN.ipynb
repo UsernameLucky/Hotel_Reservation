{
  "nbformat": 4,
  "nbformat_minor": 0,
  "metadata": {
    "colab": {
      "provenance": [],
      "include_colab_link": true
    },
    "kernelspec": {
      "name": "python3",
      "display_name": "Python 3"
    },
    "language_info": {
      "name": "python"
    }
  },
  "cells": [
    {
      "cell_type": "markdown",
      "metadata": {
        "id": "view-in-github",
        "colab_type": "text"
      },
      "source": [
        "<a href=\"https://colab.research.google.com/github/UsernameLucky/Machine_Learning-projects/blob/main/Training_a_CNN.ipynb\" target=\"_parent\"><img src=\"https://colab.research.google.com/assets/colab-badge.svg\" alt=\"Open In Colab\"/></a>"
      ]
    },
    {
      "cell_type": "code",
      "execution_count": null,
      "metadata": {
        "id": "snpFkMbqcrRb"
      },
      "outputs": [],
      "source": [
        "# ld0dVTR5W1"
      ]
    },
    {
      "cell_type": "code",
      "source": [
        "#!pip install torch torchvision\n",
        "#!pip install opencv-contrib-python\n",
        "#!pip install scikit-learn"
      ],
      "metadata": {
        "id": "UOwp3DLv4BsK"
      },
      "execution_count": null,
      "outputs": []
    },
    {
      "cell_type": "markdown",
      "source": [],
      "metadata": {
        "id": "GoCk-QBS9b1Q"
      }
    },
    {
      "cell_type": "code",
      "source": [
        "from google.colab import drive\n",
        "drive.mount('/content/drive/')\n",
        "\n",
        "args = {\n",
        "    \"model\": \"/content/drive/myDrive/model.pth\",\n",
        "    \"plot\": \"/content/drive/MyDrive/loss_accuracy_plot.png\"\n",
        "}"
      ],
      "metadata": {
        "colab": {
          "base_uri": "https://localhost:8080/"
        },
        "id": "Y_BjXmLmFylv",
        "outputId": "49c636fb-be36-4a03-99a4-a48651757d94"
      },
      "execution_count": null,
      "outputs": [
        {
          "output_type": "stream",
          "name": "stdout",
          "text": [
            "Drive already mounted at /content/drive/; to attempt to forcibly remount, call drive.mount(\"/content/drive/\", force_remount=True).\n"
          ]
        }
      ]
    },
    {
      "cell_type": "code",
      "source": [
        "drive.mount(\"/content/drive/\", force_remount=True)"
      ],
      "metadata": {
        "colab": {
          "base_uri": "https://localhost:8080/"
        },
        "id": "4qkGbilYaBwd",
        "outputId": "a5e1c28e-4abf-4db6-bfa4-d39f77a026fa"
      },
      "execution_count": null,
      "outputs": [
        {
          "output_type": "stream",
          "name": "stdout",
          "text": [
            "Mounted at /content/drive/\n"
          ]
        }
      ]
    },
    {
      "cell_type": "code",
      "source": [
        "pwd"
      ],
      "metadata": {
        "colab": {
          "base_uri": "https://localhost:8080/",
          "height": 35
        },
        "id": "Wbk-0fOpYH7h",
        "outputId": "1319a53a-2dc7-4979-93bc-87c2f54c3b76"
      },
      "execution_count": null,
      "outputs": [
        {
          "output_type": "execute_result",
          "data": {
            "text/plain": [
              "'/content'"
            ],
            "application/vnd.google.colaboratory.intrinsic+json": {
              "type": "string"
            }
          },
          "metadata": {},
          "execution_count": 36
        }
      ]
    },
    {
      "cell_type": "markdown",
      "source": [
        "# Training a Convolutional Neural Network\n",
        "\n",
        "When training a Convolutional Neural Network (CNN), a dataset offers a diverse range of inputs and labels essential for the network to learn effectively. This diversity helps the model generalize better when it encounters new, unseen data.\n",
        "\n",
        "CNNs are a type of deep learning algorithm that can analyze and extract features from images, making them highly effective for image classification and object detection tasks."
      ],
      "metadata": {
        "id": "-4afueZ4-Z2y"
      }
    },
    {
      "cell_type": "code",
      "source": [
        "# Importing necessary packages for building a neural network\n",
        "from torch.nn import Module  # Base class for all neural network modules\n",
        "from torch.nn import Conv2d  # 2D convolutional layer\n",
        "from torch.nn import Linear  # Fully connected layer\n",
        "from torch.nn import MaxPool2d  # 2D max pooling layer\n",
        "from torch.nn import ReLU  # Rectified linear unit activation function\n",
        "from torch.nn import LogSoftmax  # Logarithm of the softmax function\n",
        "from torch import flatten  # Flattens a tensor into 1D\n"
      ],
      "metadata": {
        "id": "kI1onoYRcyIq"
      },
      "execution_count": null,
      "outputs": []
    },
    {
      "cell_type": "code",
      "source": [],
      "metadata": {
        "id": "sti5lKDZhHY_"
      },
      "execution_count": null,
      "outputs": []
    },
    {
      "cell_type": "code",
      "source": [
        "import matplotlib\n",
        "matplotlib.use(\"Agg\")  # set the matplotlib backend so figures can be saved in the background\n",
        "\n",
        "from sklearn.metrics import classification_report  # import classification_report function\n",
        "from torch.utils.data import random_split  # import random_split function\n",
        "from torch.utils.data import DataLoader  # import DataLoader class\n",
        "from torchvision.transforms import ToTensor  # import ToTensor class for transforming data to PyTorch tensors\n",
        "from torchvision.datasets import KMNIST  # import KMNIST dataset\n",
        "from torch.optim import Adam  # import Adam optimizer\n",
        "from torch import nn  # import neural network module from PyTorch\n",
        "import matplotlib.pyplot as plt  # import matplotlib for plotting\n",
        "import numpy as np  # import NumPy for numerical computations\n",
        "import argparse  # import argparse for parsing command line arguments\n",
        "import torch  # import PyTorch\n",
        "import time  # import time module for timing operations\n"
      ],
      "metadata": {
        "id": "I1ZrpEGjiYIi"
      },
      "execution_count": null,
      "outputs": []
    },
    {
      "cell_type": "markdown",
      "source": [
        "## Set hyperparameters"
      ],
      "metadata": {
        "id": "kWqIsNWAvKmf"
      }
    },
    {
      "cell_type": "markdown",
      "source": [
        "We set parameters to define the training hyperparameters, split the dataset into training and validation sets, and determine the device (CPU or GPU) that will be used for training the model. `INIT_LR` specifies the initial learning rate for the optimizer, `BATCH_SIZE` determines the number of samples in each batch during training, and `EPOCHS` sets the number of times the entire dataset will be passed through the model during training. `TRAIN_SPLIT` and `VAL_SPLIT` define the ratio of the dataset that will be used for training and validation, respectively. Finally, `device` is set to use the GPU (if available) for training, falling back to the CPU otherwise."
      ],
      "metadata": {
        "id": "SbPO3MaPF93m"
      }
    },
    {
      "cell_type": "code",
      "source": [
        "# define training hyperparameters\n",
        "INIT_LR = 1e-3\n",
        "BATCH_SIZE = 64\n",
        "EPOCHS = 10\n",
        "# define the train and val splits\n",
        "TRAIN_SPLIT = 0.75\n",
        "VAL_SPLIT = 1 - TRAIN_SPLIT\n",
        "# set the device we will be using to train the model\n",
        "device = torch.device(\"cuda\" if torch.cuda.is_available() else \"cpu\")"
      ],
      "metadata": {
        "id": "aKt2pawhjATG"
      },
      "execution_count": null,
      "outputs": []
    },
    {
      "cell_type": "markdown",
      "source": [
        "# Load and Prepare data"
      ],
      "metadata": {
        "id": "AhI6ss4hvoZT"
      }
    },
    {
      "cell_type": "code",
      "source": [
        "import time  # import the time module for timing operations\n",
        "import numpy as np  # import NumPy for numerical computations\n",
        "import pandas as pd  # import pandas for data manipulation and analysis\n",
        "import matplotlib.pyplot as plt  # import matplotlib for plotting\n",
        "from sklearn.metrics import classification_report  # import classification_report function from scikit-learn\n",
        "import torch  # import PyTorch for deep learning\n",
        "import torchvision  # import torchvision for computer vision tasks using PyTorch\n"
      ],
      "metadata": {
        "id": "SyhmxrHh1nVa"
      },
      "execution_count": null,
      "outputs": []
    },
    {
      "cell_type": "markdown",
      "source": [
        "We loads the KMNIST dataset using the `torchvision.datasets.KMNIST` class. The dataset is split into training and test sets, and each sample is transformed into a PyTorch tensor using `torchvision.transforms.ToTensor()`. The training dataset is further split into training and validation sets using `torch.utils.data.random_split`, based on the `TRAIN_SPLIT` and `VAL_SPLIT` ratios. The random split is generated with a specific seed (`42` in this case) to ensure reproducibility. This process prepares the data for training and evaluation of a machine learning model."
      ],
      "metadata": {
        "id": "3WE5Hi_iGpU0"
      }
    },
    {
      "cell_type": "markdown",
      "source": [
        "The Kuzushiji-MNIST (KMNIST) dataset is a collection of 70,000 28x28 grayscale images of handwritten Japanese Hiragana characters. It is derived from the original MNIST dataset but focuses on a more challenging and culturally significant task of recognizing characters from the Japanese syllabus. The dataset is split into 60,000 training images and 10,000 test images, with each image belonging to one of 10 classes representing different Hiragana characters."
      ],
      "metadata": {
        "id": "cyLowekSGxfN"
      }
    },
    {
      "cell_type": "code",
      "source": [
        "# load the KMNIST dataset\n",
        "print(\"[INFO] loading the KMNIST dataset...\")\n",
        "trainData = torchvision.datasets.KMNIST(\n",
        "                root=\"data\",\n",
        "                train=True,\n",
        "                download=True,\n",
        "                transform=torchvision.transforms.ToTensor()\n",
        "            )\n",
        "testData = torchvision.datasets.KMNIST(\n",
        "                root=\"data\",\n",
        "                train=False,\n",
        "                download=True,\n",
        "                transform=torchvision.transforms.ToTensor())\n",
        "\n",
        "# calculate the train/validation split\n",
        "print(\"[INFO] generating the train/validation split...\")\n",
        "numTrainSamples = int(len(trainData) * TRAIN_SPLIT)\n",
        "numValSamples = int(len(trainData) * VAL_SPLIT)\n",
        "(trainData, valData) = torch.utils.data.random_split(\n",
        "                            trainData, [numTrainSamples, numValSamples],\n",
        "                            generator=torch.Generator().manual_seed(42)\n",
        "                        )"
      ],
      "metadata": {
        "id": "y8f0KgvlmXBf",
        "colab": {
          "base_uri": "https://localhost:8080/"
        },
        "outputId": "04e5cdf3-d439-40f8-c063-cbebb710fc54"
      },
      "execution_count": null,
      "outputs": [
        {
          "output_type": "stream",
          "name": "stdout",
          "text": [
            "[INFO] loading the KMNIST dataset...\n",
            "Downloading http://codh.rois.ac.jp/kmnist/dataset/kmnist/train-images-idx3-ubyte.gz\n",
            "Downloading http://codh.rois.ac.jp/kmnist/dataset/kmnist/train-images-idx3-ubyte.gz to data/KMNIST/raw/train-images-idx3-ubyte.gz\n"
          ]
        },
        {
          "output_type": "stream",
          "name": "stderr",
          "text": [
            "100%|██████████| 18165135/18165135 [00:12<00:00, 1490075.39it/s]\n"
          ]
        },
        {
          "output_type": "stream",
          "name": "stdout",
          "text": [
            "Extracting data/KMNIST/raw/train-images-idx3-ubyte.gz to data/KMNIST/raw\n",
            "\n",
            "Downloading http://codh.rois.ac.jp/kmnist/dataset/kmnist/train-labels-idx1-ubyte.gz\n",
            "Downloading http://codh.rois.ac.jp/kmnist/dataset/kmnist/train-labels-idx1-ubyte.gz to data/KMNIST/raw/train-labels-idx1-ubyte.gz\n"
          ]
        },
        {
          "output_type": "stream",
          "name": "stderr",
          "text": [
            "100%|██████████| 29497/29497 [00:00<00:00, 201788.22it/s]\n"
          ]
        },
        {
          "output_type": "stream",
          "name": "stdout",
          "text": [
            "Extracting data/KMNIST/raw/train-labels-idx1-ubyte.gz to data/KMNIST/raw\n",
            "\n",
            "Downloading http://codh.rois.ac.jp/kmnist/dataset/kmnist/t10k-images-idx3-ubyte.gz\n",
            "Downloading http://codh.rois.ac.jp/kmnist/dataset/kmnist/t10k-images-idx3-ubyte.gz to data/KMNIST/raw/t10k-images-idx3-ubyte.gz\n"
          ]
        },
        {
          "output_type": "stream",
          "name": "stderr",
          "text": [
            "100%|██████████| 3041136/3041136 [00:02<00:00, 1370266.48it/s]\n"
          ]
        },
        {
          "output_type": "stream",
          "name": "stdout",
          "text": [
            "Extracting data/KMNIST/raw/t10k-images-idx3-ubyte.gz to data/KMNIST/raw\n",
            "\n",
            "Downloading http://codh.rois.ac.jp/kmnist/dataset/kmnist/t10k-labels-idx1-ubyte.gz\n",
            "Downloading http://codh.rois.ac.jp/kmnist/dataset/kmnist/t10k-labels-idx1-ubyte.gz to data/KMNIST/raw/t10k-labels-idx1-ubyte.gz\n"
          ]
        },
        {
          "output_type": "stream",
          "name": "stderr",
          "text": [
            "100%|██████████| 5120/5120 [00:00<00:00, 16430632.35it/s]\n"
          ]
        },
        {
          "output_type": "stream",
          "name": "stdout",
          "text": [
            "Extracting data/KMNIST/raw/t10k-labels-idx1-ubyte.gz to data/KMNIST/raw\n",
            "\n",
            "[INFO] generating the train/validation split...\n"
          ]
        }
      ]
    },
    {
      "cell_type": "code",
      "source": [
        "# initialize the train, validation, and test data loaders\n",
        "trainDataLoader = torch.utils.data.DataLoader(trainData, shuffle=True, batch_size=BATCH_SIZE)\n",
        "valDataLoader = torch.utils.data.DataLoader(valData, batch_size=BATCH_SIZE)\n",
        "testDataLoader = torch.utils.data.DataLoader(testData, batch_size=BATCH_SIZE)\n",
        "\n",
        "# calculate steps per epoch for training and validation set\n",
        "trainSteps = len(trainDataLoader.dataset) // BATCH_SIZE\n",
        "valSteps = len(valDataLoader.dataset) // BATCH_SIZE"
      ],
      "metadata": {
        "id": "dJQX9LQUuOOd"
      },
      "execution_count": null,
      "outputs": []
    },
    {
      "cell_type": "markdown",
      "source": [
        "# The model"
      ],
      "metadata": {
        "id": "o_YN0GIy2mCz"
      }
    },
    {
      "cell_type": "markdown",
      "source": [
        "We define two functions:\n",
        "\n",
        "init__ function which initializes the layers of the LeNet-5 architecture and then creates two sets of convolutional layers followed by ReLU activation functions and max pooling layers.\n",
        "\n",
        "We then define a fully connected layer with ReLU activation for feature extraction and LogSoftmax activation for classification.\n",
        "\n",
        "The forward function defines the forward pass of the network. It passes the input through the first set of convolutional, activation, and pooling layers and the second one.It flattens the output and passes it through the fully connected layers and finally returns the output predictions after applying LogSoftmax activation."
      ],
      "metadata": {
        "id": "pjyi3kjfEkUk"
      }
    },
    {
      "cell_type": "code",
      "source": [
        "class LeNet(torch.nn.Module):\n",
        "\n",
        "    def __init__(self, numChannels, classes):\n",
        "        # call the parent constructor\n",
        "        super(LeNet, self).__init__()\n",
        "\n",
        "        # initialize first set of CONV => RELU => POOL layers\n",
        "        self.conv1 = torch.nn.Conv2d(\n",
        "                        in_channels=numChannels,\n",
        "                        out_channels=20,\n",
        "                        kernel_size=(5, 5)\n",
        "                     )\n",
        "        self.relu1 = torch.nn.ReLU()\n",
        "        self.maxpool1 = torch.nn.MaxPool2d(kernel_size=(2, 2), stride=(2, 2))\n",
        "\n",
        "        # initialize second set of CONV => RELU => POOL layers\n",
        "        self.conv2 = torch.nn.Conv2d(\n",
        "                        in_channels=20,\n",
        "                        out_channels=50,\n",
        "                        kernel_size=(5, 5)\n",
        "                     )\n",
        "        self.relu2 = torch.nn.ReLU()\n",
        "        self.maxpool2 = torch.nn.MaxPool2d(kernel_size=(2, 2), stride=(2, 2))\n",
        "\n",
        "        # initialize first (and only) set of FC => RELU layers\n",
        "        self.fc1 = torch.nn.Linear(in_features=800, out_features=500)\n",
        "        self.relu3 = torch.nn.ReLU()\n",
        "\n",
        "        # initialize our softmax classifier\n",
        "        self.fc2 = torch.nn.Linear(in_features=500, out_features=classes)\n",
        "        self.logSoftmax = torch.nn.LogSoftmax(dim=1)\n",
        "\n",
        "    def forward(self, x):\n",
        "        # Pass the input through our first set of CONV => RELU =>\n",
        "        # POOL layers\n",
        "        x = self.conv1(x)\n",
        "        x = self.relu1(x)\n",
        "        x = self.maxpool1(x)\n",
        "\n",
        "        # Pass the output from the previous layer through the second\n",
        "        # set of CONV => RELU => POOL layers\n",
        "        x = self.conv2(x)\n",
        "        x = self.relu2(x)\n",
        "        x = self.maxpool2(x)\n",
        "\n",
        "        # Flatten the output from the previous layer and pass it\n",
        "        # through our only set of FC => RELU layers\n",
        "        x = torch.flatten(x, 1)\n",
        "        x = self.fc1(x)\n",
        "        x = self.relu3(x)\n",
        "\n",
        "        # Pass the output to our softmax classifier to get our output\n",
        "        # predictions\n",
        "        x = self.fc2(x)\n",
        "        output = self.logSoftmax(x)\n",
        "\n",
        "        # return the output predictions\n",
        "        return output"
      ],
      "metadata": {
        "id": "SsxODJ0e3CHM"
      },
      "execution_count": null,
      "outputs": []
    },
    {
      "cell_type": "markdown",
      "source": [
        "The following code initializes the LeNet model for training on the KMNIST dataset. It sets up the model architecture, optimizer, loss function, and data structures for storing training history."
      ],
      "metadata": {
        "id": "SFCIFZnwHZrV"
      }
    },
    {
      "cell_type": "code",
      "source": [
        "# initialize the LeNet model\n",
        "print(\"[INFO] initializing the LeNet model...\")\n",
        "model = LeNet(\n",
        "\tnumChannels=1,\n",
        "\tclasses=len(trainData.dataset.classes)).to(device)\n",
        "# initialize our optimizer and loss function\n",
        "opt = Adam(model.parameters(), lr=INIT_LR)\n",
        "lossFn = nn.NLLLoss()\n",
        "# initialize a dictionary to store training history\n",
        "H = {\n",
        "\t\"train_loss\": [],\n",
        "\t\"train_acc\": [],\n",
        "\t\"val_loss\": [],\n",
        "\t\"val_acc\": []\n",
        "}\n",
        "# measure how long training is going to take\n",
        "print(\"[INFO] training the network...\")\n",
        "startTime = time.time()"
      ],
      "metadata": {
        "colab": {
          "base_uri": "https://localhost:8080/"
        },
        "id": "UqIF1c2n2cbU",
        "outputId": "856aeb3e-f97a-4d1b-f069-8f9c0440782f"
      },
      "execution_count": null,
      "outputs": [
        {
          "output_type": "stream",
          "name": "stdout",
          "text": [
            "[INFO] initializing the LeNet model...\n",
            "[INFO] training the network...\n"
          ]
        }
      ]
    },
    {
      "cell_type": "markdown",
      "source": [
        "#  Model Fitting"
      ],
      "metadata": {
        "id": "wZM_jxm04Xzn"
      }
    },
    {
      "cell_type": "markdown",
      "source": [
        "The following code trains the LeNet model on the KMNIST dataset for a specified number of epochs (`EPOCHS`). It loops over each epoch, setting the model in training mode and iterating over the training dataset (`trainDataLoader`). For each batch, it sends the input data to the device (CPU or GPU), performs a forward pass through the model, calculates the loss, computes gradients, and updates the weights. It also calculates the total training loss and the number of correct predictions for the training set.\n",
        "\n",
        "After each epoch, the model is switched to evaluation mode, and the validation dataset (`valDataLoader`) is iterated over to calculate the validation loss and the number of correct predictions. The average training and validation losses are computed, along with the training and validation accuracies. The training history (`H`) is updated with these metrics, and a summary of the epoch's training and validation performance is printed.\n",
        "\n",
        "The total time taken for training is calculated and printed."
      ],
      "metadata": {
        "id": "ntoMVel0H7ta"
      }
    },
    {
      "cell_type": "code",
      "source": [
        "# measure how long training is going to take\n",
        "print(\"[INFO] training the network...\")\n",
        "startTime = time.time()\n",
        "\n",
        "# Loop over our epochs\n",
        "for e in range(0, EPOCHS):\n",
        "    # Set the model in training mode\n",
        "    model.train()\n",
        "\n",
        "    # Initialize the total training and validation loss\n",
        "    totalTrainLoss = 0\n",
        "    totalValLoss = 0\n",
        "\n",
        "    # Initialize the number of correct predictions in the training\n",
        "    # and validation step\n",
        "    trainCorrect = 0\n",
        "    valCorrect = 0\n",
        "\n",
        "    # Loop over the training set\n",
        "    for (x, y) in trainDataLoader:\n",
        "        # Send the input to the device\n",
        "        (x, y) = (x.to(device), y.to(device))\n",
        "\n",
        "        # Perform a forward pass and calculate the training loss\n",
        "        pred = model(x)\n",
        "        loss = lossFn(pred, y)\n",
        "\n",
        "        # Zero out the gradients, perform the backpropagation step,\n",
        "        # and update the weights\n",
        "        opt.zero_grad()\n",
        "        loss.backward()\n",
        "        opt.step()\n",
        "\n",
        "        # Add the loss to the total training loss so far and\n",
        "        # calculate the number of correct predictions\n",
        "        totalTrainLoss += loss\n",
        "        trainCorrect += (pred.argmax(1) == y).type(torch.float).sum().item()\n",
        "\n",
        "    # Switch off autograd for evaluation\n",
        "    with torch.no_grad():\n",
        "        # Set the model in evaluation mode\n",
        "        model.eval()\n",
        "\n",
        "        # Loop over the validation set\n",
        "        for (x, y) in valDataLoader:\n",
        "            # Send the input to the device\n",
        "            (x, y) = (x.to(device), y.to(device))\n",
        "\n",
        "            # Make the predictions and calculate the validation loss\n",
        "            pred = model(x)\n",
        "            totalValLoss += lossFn(pred, y)\n",
        "\n",
        "            # Calculate the number of correct predictions\n",
        "            valCorrect += (pred.argmax(1) == y).type(torch.float).sum().item()\n",
        "\n",
        "    # Calculate the average training and validation loss\n",
        "    avgTrainLoss = totalTrainLoss / trainSteps\n",
        "    avgValLoss = totalValLoss / valSteps\n",
        "\n",
        "    # Calculate the training and validation accuracy\n",
        "    trainCorrect = trainCorrect / len(trainDataLoader.dataset)\n",
        "    valCorrect = valCorrect / len(valDataLoader.dataset)\n",
        "\n",
        "    # Update our training history\n",
        "    H[\"train_loss\"].append(avgTrainLoss.cpu().detach().numpy())\n",
        "    H[\"train_acc\"].append(trainCorrect)\n",
        "    H[\"val_loss\"].append(avgValLoss.cpu().detach().numpy())\n",
        "    H[\"val_acc\"].append(valCorrect)\n",
        "\n",
        "    # Print the model training and validation information\n",
        "    print(\"[INFO] EPOCH: {}/{}\".format(e + 1, EPOCHS))\n",
        "    print(\"Train loss: {:.6f}, Train accuracy: {:.4f}\".format(avgTrainLoss, trainCorrect))\n",
        "    print(\"Val loss: {:.6f}, Val accuracy: {:.4f}\\n\".format(avgValLoss, valCorrect))\n",
        "\n",
        "# Finish measuring how long training took\n",
        "endTime = time.time()\n",
        "print(\"[INFO] total time taken to train the model: {:.2f}s\".format(endTime - startTime))"
      ],
      "metadata": {
        "colab": {
          "base_uri": "https://localhost:8080/"
        },
        "id": "_pwuiU2N4Wes",
        "outputId": "c3502724-c7e5-47de-91d6-6ba90428b588"
      },
      "execution_count": null,
      "outputs": [
        {
          "output_type": "stream",
          "name": "stdout",
          "text": [
            "[INFO] training the network...\n",
            "[INFO] EPOCH: 1/10\n",
            "Train loss: 0.350819, Train accuracy: 0.8907\n",
            "Val loss: 0.140844, Val accuracy: 0.9581\n",
            "\n",
            "[INFO] EPOCH: 2/10\n",
            "Train loss: 0.101437, Train accuracy: 0.9692\n",
            "Val loss: 0.110056, Val accuracy: 0.9677\n",
            "\n",
            "[INFO] EPOCH: 3/10\n",
            "Train loss: 0.058615, Train accuracy: 0.9817\n",
            "Val loss: 0.079302, Val accuracy: 0.9768\n",
            "\n",
            "[INFO] EPOCH: 4/10\n",
            "Train loss: 0.039407, Train accuracy: 0.9876\n",
            "Val loss: 0.073150, Val accuracy: 0.9790\n",
            "\n",
            "[INFO] EPOCH: 5/10\n",
            "Train loss: 0.025614, Train accuracy: 0.9917\n",
            "Val loss: 0.080415, Val accuracy: 0.9781\n",
            "\n",
            "[INFO] EPOCH: 6/10\n",
            "Train loss: 0.017958, Train accuracy: 0.9941\n",
            "Val loss: 0.078820, Val accuracy: 0.9799\n",
            "\n",
            "[INFO] EPOCH: 7/10\n",
            "Train loss: 0.014729, Train accuracy: 0.9952\n",
            "Val loss: 0.095806, Val accuracy: 0.9779\n",
            "\n",
            "[INFO] EPOCH: 8/10\n",
            "Train loss: 0.012490, Train accuracy: 0.9962\n",
            "Val loss: 0.091742, Val accuracy: 0.9793\n",
            "\n",
            "[INFO] EPOCH: 9/10\n",
            "Train loss: 0.010241, Train accuracy: 0.9967\n",
            "Val loss: 0.096841, Val accuracy: 0.9781\n",
            "\n",
            "[INFO] EPOCH: 10/10\n",
            "Train loss: 0.011053, Train accuracy: 0.9965\n",
            "Val loss: 0.088912, Val accuracy: 0.9829\n",
            "\n",
            "[INFO] total time taken to train the model: 540.21s\n"
          ]
        }
      ]
    },
    {
      "cell_type": "markdown",
      "source": [
        "This output shows the training progress of the LeNet model over 10 epochs on the KMNIST dataset.\n",
        "- \"Train loss\" and \"Val loss\" indicate the average loss over the entire training and validation datasets for the respective epoch.\n",
        "- \"Train accuracy\" and \"Val accuracy\" show the proportion of correct predictions over the entire training and validation datasets for the respective epoch.\n",
        "\n",
        "The values for each metric generally improve with each epoch, indicating that the model is learning and improving its performance.The total time taken to train the model  is 540.21 seconds."
      ],
      "metadata": {
        "id": "i-Mhg7dZIVp2"
      }
    },
    {
      "cell_type": "markdown",
      "source": [
        "# Evaluation"
      ],
      "metadata": {
        "id": "iKopmrj-7XB2"
      }
    },
    {
      "cell_type": "markdown",
      "source": [
        "This code evaluates the trained LeNet model on the test set and prints a classification report. It calculates the total training time and then evaluates the model on the test set by making predictions and comparing them with the actual labels to generate a classification report, which includes metrics like precision, recall, and F1-score for each class in the dataset."
      ],
      "metadata": {
        "id": "73op_6yDI3aH"
      }
    },
    {
      "cell_type": "code",
      "source": [
        "# finish measuring how long training took\n",
        "endTime = time.time()\n",
        "print(\"[INFO] total time taken to train the model: {:.2f}s\".format(\n",
        "\tendTime - startTime))\n",
        "# we can now evaluate the network on the test set\n",
        "print(\"[INFO] evaluating network...\")\n",
        "# turn off autograd for testing evaluation\n",
        "with torch.no_grad():\n",
        "\t# set the model in evaluation mode\n",
        "\tmodel.eval()\n",
        "\n",
        "\t# initialize a list to store our predictions\n",
        "\tpreds = []\n",
        "\t# loop over the test set\n",
        "\tfor (x, y) in testDataLoader:\n",
        "\t\t# send the input to the device\n",
        "\t\tx = x.to(device)\n",
        "\t\t# make the predictions and add them to the list\n",
        "\t\tpred = model(x)\n",
        "\t\tpreds.extend(pred.argmax(axis=1).cpu().numpy())\n",
        "# generate a classification report\n",
        "print(classification_report(testData.targets.cpu().numpy(),\n",
        "\tnp.array(preds), target_names=testData.classes))"
      ],
      "metadata": {
        "colab": {
          "base_uri": "https://localhost:8080/"
        },
        "id": "4oQykCH73EZ6",
        "outputId": "69ca863c-dd09-462c-a677-2efe8f28610b"
      },
      "execution_count": null,
      "outputs": [
        {
          "output_type": "stream",
          "name": "stdout",
          "text": [
            "[INFO] total time taken to train the model: 936.49s\n",
            "[INFO] evaluating network...\n",
            "              precision    recall  f1-score   support\n",
            "\n",
            "           o       0.95      0.97      0.96      1000\n",
            "          ki       0.95      0.93      0.94      1000\n",
            "          su       0.91      0.90      0.90      1000\n",
            "         tsu       0.93      0.98      0.96      1000\n",
            "          na       0.91      0.94      0.93      1000\n",
            "          ha       0.98      0.93      0.95      1000\n",
            "          ma       0.91      0.97      0.94      1000\n",
            "          ya       0.99      0.95      0.97      1000\n",
            "          re       0.97      0.96      0.97      1000\n",
            "          wo       0.99      0.94      0.97      1000\n",
            "\n",
            "    accuracy                           0.95     10000\n",
            "   macro avg       0.95      0.95      0.95     10000\n",
            "weighted avg       0.95      0.95      0.95     10000\n",
            "\n"
          ]
        }
      ]
    },
    {
      "cell_type": "markdown",
      "source": [
        "This output shows the total time taken to train the model (936.49 seconds) and the results of evaluating the model on the test set. The classification report displays metrics such as precision, recall, and F1-score for each class in the dataset, as well as overall accuracy. The model achieved an overall accuracy of 95% on the test set, with individual class performance varying between 91% and 99% precision."
      ],
      "metadata": {
        "id": "_YKARtlYJG_F"
      }
    },
    {
      "cell_type": "code",
      "source": [
        "# plot the training loss and accuracy\n",
        "plt.style.use(\"ggplot\")\n",
        "plt.figure()\n",
        "plt.plot(H[\"train_loss\"], label=\"train_loss\")\n",
        "plt.plot(H[\"val_loss\"], label=\"val_loss\")\n",
        "plt.plot(H[\"train_acc\"], label=\"train_acc\")\n",
        "plt.plot(H[\"val_acc\"], label=\"val_acc\")\n",
        "plt.title(\"Training Loss and Accuracy on Dataset\")\n",
        "plt.xlabel(\"Epoch #\")\n",
        "plt.ylabel(\"Loss/Accuracy\")\n",
        "plt.legend(loc=\"lower left\")\n",
        "plt.savefig(\"Figure\")\n",
        "#torch.save(model, args[\"model\"])\n",
        "#plt.savefig(args[\"plot\"])\n",
        "\n",
        "\n",
        "\n",
        "\n",
        "\n",
        "\n",
        "\n",
        "from IPython.display import Image, display\n",
        "\n",
        "image_path = \"/content/Figure.png\"\n",
        "display(Image(filename=image_path))\n",
        "\n"
      ],
      "metadata": {
        "colab": {
          "base_uri": "https://localhost:8080/",
          "height": 497
        },
        "id": "Q0yBw1cjKOjS",
        "outputId": "17cf1341-654b-4c32-e31d-7676c9a78e65"
      },
      "execution_count": null,
      "outputs": [
        {
          "output_type": "display_data",
          "data": {
            "image/png": "[encoded data removed]",
            "text/plain": [
              "<IPython.core.display.Image object>"
            ]
          },
          "metadata": {}
        }
      ]
    },
    {
      "cell_type": "markdown",
      "source": [
        "\n",
        "The diagram shows the performance of a Convolutional Neural Network (CNN), over multiple training cycles (epochs).\n",
        "It shows:\n",
        "\n",
        " Training Loss (red line):This line indicates how well the model performs on individual training examples. Lower values represent better performance during training. As the model learns from the data, this line trends downwards.\n",
        "\n",
        " Training Accuracy (purple line): This line shows the proportion of training examples the model classified correctly. Higher values indicate better performance. As training progresses, this line trends upwards.\n",
        "\n",
        "\n",
        " Validation Loss (blue line): This line measures the model's performance on a validation set data not used for training. This helps assess how well the model generalizes to unseen data and avoids overfitting.\n",
        "\n",
        " Validation Accuracy (green line): This line shows the proportion of examples in the validation set the model classified correctly. An increasing trend indicates the model is learning effectively and generalizing well to unseen data.\n",
        "\n",
        "\n"
      ],
      "metadata": {
        "id": "0Fc6SulxuuhA"
      }
    },
    {
      "cell_type": "markdown",
      "source": [],
      "metadata": {
        "id": "gGxl5Cokuuyd"
      }
    },
    {
      "cell_type": "code",
      "source": [
        "# set the numpy seed for better reproducibility\n",
        "import numpy as np\n",
        "np.random.seed(42)\n",
        "\n",
        "# import the necessary packages\n",
        "from torch.utils.data import DataLoader  # import DataLoader class for batch loading data\n",
        "from torch.utils.data import Subset  # import Subset class for creating a subset of a dataset\n",
        "from torchvision.transforms import ToTensor  # import ToTensor class for transforming data to PyTorch tensors\n",
        "from torchvision.datasets import KMNIST  # import KMNIST dataset\n",
        "import argparse  # import argparse for parsing command line arguments\n",
        "import imutils  # import imutils for image processing and manipulation\n",
        "import torch  # import PyTorch for deep learning\n",
        "import cv2  # import OpenCV for image processing\n",
        "\n"
      ],
      "metadata": {
        "id": "JuBaIB7gkdtR"
      },
      "execution_count": null,
      "outputs": []
    },
    {
      "cell_type": "markdown",
      "source": [
        "The following code sets the device for model training based on GPU availability, loads the KMNIST test dataset, selects 10 random data points for evaluation, initializes a data loader for the test dataset, and loads a pre-trained model for evaluation."
      ],
      "metadata": {
        "id": "nkDEb5sNKHIM"
      }
    },
    {
      "cell_type": "code",
      "source": [
        "# Set the device\n",
        "device = torch.device(\"cuda\" if torch.cuda.is_available() else \"cpu\")\n",
        "\n",
        "# Load the KMNIST dataset and randomly grab 10 data points\n",
        "print(\"[INFO] loading the KMNIST test dataset...\")\n",
        "testData = KMNIST(root=\"data\", train=False, download=True, transform=ToTensor())\n",
        "idxs = np.random.choice(range(0, len(testData)), size=(10,))\n",
        "testData = Subset(testData, idxs)\n",
        "\n",
        "# Initialize the test data loader\n",
        "testDataLoader = DataLoader(testData, batch_size=1)\n",
        "\n",
        "# Load the model and set it to evaluation mode\n",
        "model = torch.load(\"model.pth\").to(device)\n",
        "model.eval()\n"
      ],
      "metadata": {
        "colab": {
          "base_uri": "https://localhost:8080/"
        },
        "id": "rgU_H-h9j8E-",
        "outputId": "b6cb1c4e-eac6-4490-c562-e4414552a4ac"
      },
      "execution_count": null,
      "outputs": [
        {
          "output_type": "stream",
          "name": "stdout",
          "text": [
            "[INFO] loading the KMNIST test dataset...\n"
          ]
        },
        {
          "output_type": "execute_result",
          "data": {
            "text/plain": [
              "LeNet(\n",
              "  (conv1): Conv2d(1, 20, kernel_size=(5, 5), stride=(1, 1))\n",
              "  (relu1): ReLU()\n",
              "  (maxpool1): MaxPool2d(kernel_size=(2, 2), stride=(2, 2), padding=0, dilation=1, ceil_mode=False)\n",
              "  (conv2): Conv2d(20, 50, kernel_size=(5, 5), stride=(1, 1))\n",
              "  (relu2): ReLU()\n",
              "  (maxpool2): MaxPool2d(kernel_size=(2, 2), stride=(2, 2), padding=0, dilation=1, ceil_mode=False)\n",
              "  (fc1): Linear(in_features=800, out_features=500, bias=True)\n",
              "  (relu3): ReLU()\n",
              "  (fc2): Linear(in_features=500, out_features=10, bias=True)\n",
              "  (logSoftmax): LogSoftmax(dim=1)\n",
              ")"
            ]
          },
          "metadata": {},
          "execution_count": 69
        }
      ]
    },
    {
      "cell_type": "code",
      "source": [
        "from google.colab.patches import cv2_imshow"
      ],
      "metadata": {
        "id": "fRJNFuowkLIg"
      },
      "execution_count": null,
      "outputs": []
    },
    {
      "cell_type": "markdown",
      "source": [
        "The following code disables autograd functionality in PyTorch to prevent unnecessary gradient computations. Within this context, it iterates over the test dataset, making predictions with a pre-trained model. For each image in the test set, it extracts the original image and ground truth label, sends the image to the specified device (CPU or GPU), and makes predictions using the model. It then visualizes the original image, overlays the predicted label on it, and displays the result along with the ground truth label. Finally, it scales and displays the image for inspection and waits for user input to proceed to the next image."
      ],
      "metadata": {
        "id": "IYGSnGlLKdFm"
      }
    },
    {
      "cell_type": "code",
      "source": [
        "# switch off autograd\n",
        "with torch.no_grad():\n",
        "    # loop over the test set\n",
        "    for (image, label) in testDataLoader:\n",
        "        # grab the original image and ground truth label\n",
        "        origImage = image.numpy().squeeze(axis=(0, 1))\n",
        "        gtLabel = testData.dataset.classes[label.numpy()[0]]\n",
        "        # send the input to the device and make predictions on it\n",
        "        image = image.to(device)\n",
        "        pred = model(image)\n",
        "        # find the class label index with the largest corresponding\n",
        "        # probability\n",
        "        idx = pred.argmax(axis=1).cpu().numpy()[0]\n",
        "        predLabel = testData.dataset.classes[idx]\n",
        "\n",
        "        # convert the image from grayscale to RGB (so we can draw on\n",
        "        # it) and resize it (so we can more easily see it on our\n",
        "        # screen)\n",
        "        origImage = np.dstack([origImage] * 3)\n",
        "        origImage = imutils.resize(origImage, width=128)\n",
        "        # draw the predicted class label on it\n",
        "        color = (0, 255, 0) if gtLabel == predLabel else (0, 0, 255)\n",
        "        cv2.putText(origImage, gtLabel, (2, 25),\n",
        "                    cv2.FONT_HERSHEY_SIMPLEX, 0.95, color, 2)\n",
        "\n",
        "        # Display the result in the terminal and show the input image\n",
        "        print(\"[INFO] ground truth label: {}, predicted label: {}\".format( gtLabel, predLabel))\n",
        "        #scalling the image\n",
        "        scaledImage=(origImage*255).astype(np.uint8)\n",
        "        # Use cv2_imshow instead of cv2.imshow in Colab\n",
        "\n",
        "        cv2_imshow(origImage)\n",
        "        cv2_imshow(scaledImage)\n",
        "        cv2.waitKey(0)\n",
        "\n"
      ],
      "metadata": {
        "colab": {
          "base_uri": "https://localhost:8080/",
          "height": 2751
        },
        "id": "XF6D_sSIpXzi",
        "outputId": "137cd69d-3470-4d29-dddc-0c26aed6564a"
      },
      "execution_count": null,
      "outputs": [
        {
          "output_type": "stream",
          "name": "stdout",
          "text": [
            "[INFO] ground truth label: re, predicted label: re\n"
          ]
        },
        {
          "output_type": "display_data",
          "data": {
            "text/plain": [
              "<PIL.Image.Image image mode=RGB size=128x128>"
            ],
            "image/png": "[encoded data removed]"
          },
          "metadata": {}
        },
        {
          "output_type": "display_data",
          "data": {
            "text/plain": [
              "<PIL.Image.Image image mode=RGB size=128x128>"
            ],
            "image/png": "[encoded data removed]"
          },
          "metadata": {}
        },
        {
          "output_type": "stream",
          "name": "stdout",
          "text": [
            "[INFO] ground truth label: re, predicted label: re\n"
          ]
        },
        {
          "output_type": "display_data",
          "data": {
            "text/plain": [
              "<PIL.Image.Image image mode=RGB size=128x128>"
            ],
            "image/png": "[encoded data removed]"
          },
          "metadata": {}
        },
        {
          "output_type": "display_data",
          "data": {
            "text/plain": [
              "<PIL.Image.Image image mode=RGB size=128x128>"
            ],
            "image/png": "[encoded data removed]"
          },
          "metadata": {}
        },
        {
          "output_type": "stream",
          "name": "stdout",
          "text": [
            "[INFO] ground truth label: o, predicted label: o\n"
          ]
        },
        {
          "output_type": "display_data",
          "data": {
            "text/plain": [
              "<PIL.Image.Image image mode=RGB size=128x128>"
            ],
            "image/png": "[encoded data removed]"
          },
          "metadata": {}
        },
        {
          "output_type": "display_data",
          "data": {
            "text/plain": [
              "<PIL.Image.Image image mode=RGB size=128x128>"
            ],
            "image/png": "[encoded data removed]"
          },
          "metadata": {}
        },
        {
          "output_type": "stream",
          "name": "stdout",
          "text": [
            "[INFO] ground truth label: na, predicted label: na\n"
          ]
        },
        {
          "output_type": "display_data",
          "data": {
            "text/plain": [
              "<PIL.Image.Image image mode=RGB size=128x128>"
            ],
            "image/png": "[encoded data removed]"
          },
          "metadata": {}
        },
        {
          "output_type": "display_data",
          "data": {
            "text/plain": [
              "<PIL.Image.Image image mode=RGB size=128x128>"
            ],
            "image/png": "[encoded data removed]"
          },
          "metadata": {}
        },
        {
          "output_type": "stream",
          "name": "stdout",
          "text": [
            "[INFO] ground truth label: ma, predicted label: ma\n"
          ]
        },
        {
          "output_type": "display_data",
          "data": {
            "text/plain": [
              "<PIL.Image.Image image mode=RGB size=128x128>"
            ],
            "image/png": "[encoded data removed]"
          },
          "metadata": {}
        },
        {
          "output_type": "display_data",
          "data": {
            "text/plain": [
              "<PIL.Image.Image image mode=RGB size=128x128>"
            ],
            "image/png": "[encoded data removed]"
          },
          "metadata": {}
        },
        {
          "output_type": "stream",
          "name": "stdout",
          "text": [
            "[INFO] ground truth label: ha, predicted label: su\n"
          ]
        },
        {
          "output_type": "display_data",
          "data": {
            "text/plain": [
              "<PIL.Image.Image image mode=RGB size=128x128>"
            ],
            "image/png": "[encoded data removed]"
          },
          "metadata": {}
        },
        {
          "output_type": "display_data",
          "data": {
            "text/plain": [
              "<PIL.Image.Image image mode=RGB size=128x128>"
            ],
            "image/png": "[encoded data removed]"
          },
          "metadata": {}
        },
        {
          "output_type": "stream",
          "name": "stdout",
          "text": [
            "[INFO] ground truth label: ki, predicted label: ki\n"
          ]
        },
        {
          "output_type": "display_data",
          "data": {
            "text/plain": [
              "<PIL.Image.Image image mode=RGB size=128x128>"
            ],
            "image/png": "[encoded data removed]"
          },
          "metadata": {}
        },
        {
          "output_type": "display_data",
          "data": {
            "text/plain": [
              "<PIL.Image.Image image mode=RGB size=128x128>"
            ],
            "image/png": "[encoded data removed]"
          },
          "metadata": {}
        },
        {
          "output_type": "stream",
          "name": "stdout",
          "text": [
            "[INFO] ground truth label: ma, predicted label: ma\n"
          ]
        },
        {
          "output_type": "display_data",
          "data": {
            "text/plain": [
              "<PIL.Image.Image image mode=RGB size=128x128>"
            ],
            "image/png": "[encoded data removed]"
          },
          "metadata": {}
        },
        {
          "output_type": "display_data",
          "data": {
            "text/plain": [
              "<PIL.Image.Image image mode=RGB size=128x128>"
            ],
            "image/png": "[encoded data removed]"
          },
          "metadata": {}
        },
        {
          "output_type": "stream",
          "name": "stdout",
          "text": [
            "[INFO] ground truth label: ma, predicted label: ma\n"
          ]
        },
        {
          "output_type": "display_data",
          "data": {
            "text/plain": [
              "<PIL.Image.Image image mode=RGB size=128x128>"
            ],
            "image/png": "[encoded data removed]"
          },
          "metadata": {}
        },
        {
          "output_type": "display_data",
          "data": {
            "text/plain": [
              "<PIL.Image.Image image mode=RGB size=128x128>"
            ],
            "image/png": "[encoded data removed]"
          },
          "metadata": {}
        },
        {
          "output_type": "stream",
          "name": "stdout",
          "text": [
            "[INFO] ground truth label: ki, predicted label: ki\n"
          ]
        },
        {
          "output_type": "display_data",
          "data": {
            "text/plain": [
              "<PIL.Image.Image image mode=RGB size=128x128>"
            ],
            "image/png": "[encoded data removed]"
          },
          "metadata": {}
        },
        {
          "output_type": "display_data",
          "data": {
            "text/plain": [
              "<PIL.Image.Image image mode=RGB size=128x128>"
            ],
            "image/png": "[encoded data removed]"
          },
          "metadata": {}
        }
      ]
    },
    {
      "cell_type": "markdown",
      "source": [
        "The above output shows that we can successfully identify the characters.\n"
      ],
      "metadata": {
        "id": "MZx17GRhKtDk"
      }
    }
  ]
}